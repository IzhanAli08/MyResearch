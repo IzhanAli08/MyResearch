{
 "cells": [
  {
   "cell_type": "code",
   "execution_count": 1,
   "id": "60f4c9e1",
   "metadata": {},
   "outputs": [],
   "source": [
    "import numpy as np\n",
    "import pandas as pd\n",
    "import matplotlib.pyplot as plt\n",
    "import seaborn as sns"
   ]
  },
  {
   "cell_type": "code",
   "execution_count": 2,
   "id": "7392c7c5",
   "metadata": {},
   "outputs": [],
   "source": [
    "from sklearn.model_selection import train_test_split"
   ]
  },
  {
   "cell_type": "code",
   "execution_count": 3,
   "id": "25d54a1f",
   "metadata": {},
   "outputs": [],
   "source": [
    "from sklearn.linear_model import LinearRegression\n",
    "from sklearn.svm import LinearSVR\n",
    "from sklearn.tree import DecisionTreeRegressor\n",
    "from xgboost import XGBRegressor\n",
    "from sklearn.ensemble import RandomForestRegressor, AdaBoostRegressor, GradientBoostingRegressor\n",
    "from sklearn.metrics import mean_squared_error,mean_absolute_error\n",
    "import warnings\n",
    "warnings.simplefilter(action='ignore')"
   ]
  },
  {
   "cell_type": "code",
   "execution_count": 4,
   "id": "6fcbf262",
   "metadata": {},
   "outputs": [],
   "source": [
    "df = pd.read_csv('Port_preprocessed.csv')"
   ]
  },
  {
   "cell_type": "code",
   "execution_count": 5,
   "id": "b4abc85e",
   "metadata": {},
   "outputs": [],
   "source": [
    "#Identify input and target columns\n",
    "input_cols,target_cols=df.columns[:-1],df.columns[-1]\n",
    "input_df,targets=df[input_cols].copy(),df[target_cols].copy()"
   ]
  },
  {
   "cell_type": "code",
   "execution_count": 6,
   "id": "0136dd0a",
   "metadata": {},
   "outputs": [],
   "source": [
    "X_train,X_test,y_train,y_test=train_test_split(input_df,targets,test_size=0.10,random_state=42)"
   ]
  },
  {
   "cell_type": "code",
   "execution_count": 7,
   "id": "74b75c87",
   "metadata": {},
   "outputs": [
    {
     "data": {
      "text/plain": [
       "11.529109589053082"
      ]
     },
     "execution_count": 7,
     "metadata": {},
     "output_type": "execute_result"
    }
   ],
   "source": [
    "y_train.mean()"
   ]
  },
  {
   "cell_type": "code",
   "execution_count": 8,
   "id": "8eca6116",
   "metadata": {},
   "outputs": [
    {
     "name": "stdout",
     "output_type": "stream",
     "text": [
      "MSE 6.352154658942814\n",
      "MAE 1.9603811661187294\n"
     ]
    }
   ],
   "source": [
    "#Linear Regression\n",
    "model1 = LinearRegression()\n",
    "model1.fit(X_train, y_train)\n",
    "y_pred=model1.predict(X_test)\n",
    "print('MSE',mean_squared_error(y_pred,y_test))\n",
    "print('MAE',mean_absolute_error(y_pred,y_test))"
   ]
  },
  {
   "cell_type": "code",
   "execution_count": 9,
   "id": "b1d3e537",
   "metadata": {},
   "outputs": [
    {
     "name": "stdout",
     "output_type": "stream",
     "text": [
      "MSE 6.0302263748896845\n",
      "MAE 1.919929841180934\n"
     ]
    }
   ],
   "source": [
    "#SVR\n",
    "model2 = LinearSVR()\n",
    "model2.fit(X_train, y_train)\n",
    "y_pred=model2.predict(X_test)\n",
    "print('MSE',mean_squared_error(y_pred,y_test))\n",
    "print('MAE',mean_absolute_error(y_pred,y_test))"
   ]
  },
  {
   "cell_type": "code",
   "execution_count": 10,
   "id": "11555d5d",
   "metadata": {},
   "outputs": [
    {
     "name": "stdout",
     "output_type": "stream",
     "text": [
      "MSE 14.971367521760685\n",
      "MAE 2.7051282049692307\n"
     ]
    }
   ],
   "source": [
    "model4=DecisionTreeRegressor()\n",
    "model4.fit(X_train,y_train)\n",
    "y_pred = model4.predict(X_test)\n",
    "print('MSE',mean_squared_error(y_pred,y_test))\n",
    "print('MAE',mean_absolute_error(y_pred,y_test))"
   ]
  },
  {
   "cell_type": "code",
   "execution_count": 11,
   "id": "57b70295",
   "metadata": {},
   "outputs": [
    {
     "name": "stdout",
     "output_type": "stream",
     "text": [
      "MSE 9.288740842729206\n",
      "MAE 2.237256277678354\n"
     ]
    }
   ],
   "source": [
    "model5=XGBRegressor()\n",
    "model5.fit(X_train,y_train)\n",
    "y_pred = model5.predict(X_test)\n",
    "print('MSE',mean_squared_error(y_pred,y_test))\n",
    "print('MAE',mean_absolute_error(y_pred,y_test))"
   ]
  },
  {
   "cell_type": "code",
   "execution_count": 12,
   "id": "06a5f494",
   "metadata": {},
   "outputs": [
    {
     "name": "stdout",
     "output_type": "stream",
     "text": [
      "MSE 7.912911779601689\n",
      "MAE 2.0227128206864617\n"
     ]
    }
   ],
   "source": [
    "model6=RandomForestRegressor()\n",
    "model6.fit(X_train,y_train)\n",
    "y_pred = model6.predict(X_test)\n",
    "print('MSE',mean_squared_error(y_pred,y_test))\n",
    "print('MAE',mean_absolute_error(y_pred,y_test))"
   ]
  },
  {
   "cell_type": "code",
   "execution_count": 13,
   "id": "12914f02",
   "metadata": {},
   "outputs": [
    {
     "name": "stdout",
     "output_type": "stream",
     "text": [
      "MSE 8.245560445773576\n",
      "MAE 2.1731066093979163\n"
     ]
    }
   ],
   "source": [
    "model7=AdaBoostRegressor()\n",
    "model7.fit(X_train,y_train)\n",
    "y_pred = model7.predict(X_test)\n",
    "print('MSE',mean_squared_error(y_pred,y_test))\n",
    "print('MAE',mean_absolute_error(y_pred,y_test))"
   ]
  },
  {
   "cell_type": "code",
   "execution_count": 14,
   "id": "10432829",
   "metadata": {},
   "outputs": [
    {
     "name": "stdout",
     "output_type": "stream",
     "text": [
      "MSE 7.922302985581651\n",
      "MAE 2.132011160075511\n"
     ]
    }
   ],
   "source": [
    "model8=GradientBoostingRegressor()\n",
    "model8.fit(X_train,y_train)\n",
    "y_pred = model8.predict(X_test)\n",
    "print('MSE',mean_squared_error(y_pred,y_test))\n",
    "print('MAE',mean_absolute_error(y_pred,y_test))"
   ]
  },
  {
   "cell_type": "markdown",
   "id": "a64e72e9",
   "metadata": {},
   "source": [
    "Support Vector regressor performs the best for this dataset."
   ]
  },
  {
   "cell_type": "code",
   "execution_count": null,
   "id": "4503c6a5",
   "metadata": {},
   "outputs": [],
   "source": []
  }
 ],
 "metadata": {
  "kernelspec": {
   "display_name": "Python 3 (ipykernel)",
   "language": "python",
   "name": "python3"
  },
  "language_info": {
   "codemirror_mode": {
    "name": "ipython",
    "version": 3
   },
   "file_extension": ".py",
   "mimetype": "text/x-python",
   "name": "python",
   "nbconvert_exporter": "python",
   "pygments_lexer": "ipython3",
   "version": "3.11.3"
  }
 },
 "nbformat": 4,
 "nbformat_minor": 5
}
