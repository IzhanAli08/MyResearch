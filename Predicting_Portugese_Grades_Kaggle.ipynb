{
 "cells": [
  {
   "cell_type": "code",
   "execution_count": 1,
   "id": "60f4c9e1",
   "metadata": {},
   "outputs": [],
   "source": [
    "import numpy as np\n",
    "import pandas as pd\n",
    "import matplotlib.pyplot as plt\n",
    "import seaborn as sns"
   ]
  },
  {
   "cell_type": "code",
   "execution_count": 2,
   "id": "7392c7c5",
   "metadata": {},
   "outputs": [],
   "source": [
    "from sklearn.model_selection import train_test_split"
   ]
  },
  {
   "cell_type": "code",
   "execution_count": 3,
   "id": "25d54a1f",
   "metadata": {},
   "outputs": [],
   "source": [
    "from sklearn.linear_model import LinearRegression\n",
    "from sklearn.svm import LinearSVR\n",
    "from sklearn.tree import DecisionTreeRegressor\n",
    "from xgboost import XGBRegressor\n",
    "from sklearn.ensemble import RandomForestRegressor, AdaBoostRegressor, GradientBoostingRegressor\n",
    "from sklearn.metrics import mean_squared_error,mean_absolute_error\n",
    "from sklearn.model_selection import KFold,cross_val_score\n",
    "import warnings\n",
    "warnings.simplefilter(action='ignore')"
   ]
  },
  {
   "cell_type": "code",
   "execution_count": 4,
   "id": "6fcbf262",
   "metadata": {},
   "outputs": [],
   "source": [
    "df = pd.read_csv('Port_preprocessed.csv')"
   ]
  },
  {
   "cell_type": "code",
   "execution_count": 5,
   "id": "b4abc85e",
   "metadata": {},
   "outputs": [],
   "source": [
    "#Identify input and target columns\n",
    "input_cols,target_cols=df.columns[:-1],df.columns[-1]\n",
    "input_df,targets=df[input_cols].copy(),df[target_cols].copy()"
   ]
  },
  {
   "cell_type": "code",
   "execution_count": 6,
   "id": "0136dd0a",
   "metadata": {},
   "outputs": [],
   "source": [
    "#X_train,X_test,y_train,y_test=train_test_split(input_df,targets,test_size=0.10,random_state=42)"
   ]
  },
  {
   "cell_type": "code",
   "execution_count": 8,
   "id": "74b75c87",
   "metadata": {},
   "outputs": [
    {
     "name": "stdout",
     "output_type": "stream",
     "text": [
      "MSE 6.1397965680810636\n",
      "MAE 1.9129016858992225\n",
      "R-squared 0.2168822367639965\n"
     ]
    }
   ],
   "source": [
    "#y_train.mean()\n",
    "#Linear Regression\n",
    "#from sklearn.metrics import r2_score\n",
    "scores= [] #to store r squared\n",
    "mse_list= [] #to store RMSE\n",
    "mae_list = []\n",
    "#r2 = []\n",
    "model1 = LinearRegression()\n",
    "cv = KFold(n_splits=4, random_state=42, shuffle=True)\n",
    "for train_index, test_index in cv.split(input_df):\n",
    "    X_train, X_test, y_train, y_test = input_df.loc[train_index], input_df.loc[test_index], targets.loc[train_index], targets.loc[test_index]\n",
    "    model1.fit(X_train, y_train)\n",
    "    y_predict = model1.predict(X_test)\n",
    "    scores.append(model1.score(X_test, y_test))\n",
    "    #r2.append(r2_score(y_test, y_predict))\n",
    "    mse_fold = mean_squared_error(y_test, y_predict)\n",
    "    mse_list.append(mse_fold)\n",
    "    mae_fold = mean_absolute_error(y_test, y_predict)\n",
    "    mae_list.append(mae_fold)\n",
    "print('MSE',np.mean(mse_list))\n",
    "print('MAE',np.mean(mae_list))\n",
    "print('R-squared',np.mean(scores))"
   ]
  },
  {
   "cell_type": "code",
   "execution_count": 14,
   "id": "72f36f6b",
   "metadata": {},
   "outputs": [
    {
     "name": "stdout",
     "output_type": "stream",
     "text": [
      "MSE 6.100404591466374\n",
      "MAE 1.8995497735418336\n",
      "R-squared 0.21900109672877588\n"
     ]
    }
   ],
   "source": [
    "#SVR\n",
    "scores= [] #to store r squared\n",
    "mse_list= [] #to store RMSE\n",
    "mae_list = []\n",
    "model2 = LinearSVR()\n",
    "cv = KFold(n_splits=5, random_state=42, shuffle=True)\n",
    "for train_index, test_index in cv.split(input_df):\n",
    "    X_train, X_test, y_train, y_test = input_df.loc[train_index], input_df.loc[test_index], targets.loc[train_index], targets.loc[test_index]\n",
    "    model2.fit(X_train, y_train)\n",
    "    y_predict = model2.predict(X_test)\n",
    "    scores.append(model2.score(X_test, y_test))\n",
    "    mse_fold = mean_squared_error(y_test, y_predict)\n",
    "    mse_list.append(mse_fold)\n",
    "    mae_fold = mean_absolute_error(y_test, y_predict)\n",
    "    mae_list.append(mae_fold)\n",
    "print('MSE',np.mean(mse_list))\n",
    "print('MAE',np.mean(mae_list))\n",
    "print('R-squared',np.mean(scores))"
   ]
  },
  {
   "cell_type": "code",
   "execution_count": 15,
   "id": "11555d5d",
   "metadata": {},
   "outputs": [
    {
     "name": "stdout",
     "output_type": "stream",
     "text": [
      "MSE 11.08629695823026\n",
      "MAE 2.5939296361812407\n",
      "R-squared -0.45283518415717705\n"
     ]
    }
   ],
   "source": [
    "scores= [] #to store r squared\n",
    "mse_list= [] #to store RMSE\n",
    "mae_list = []\n",
    "model4=DecisionTreeRegressor()\n",
    "cv = KFold(n_splits=5, random_state=42, shuffle=True)\n",
    "for train_index, test_index in cv.split(input_df):\n",
    "    X_train, X_test, y_train, y_test = input_df.loc[train_index], input_df.loc[test_index], targets.loc[train_index], targets.loc[test_index]\n",
    "    model4.fit(X_train, y_train)\n",
    "    y_predict = model4.predict(X_test)\n",
    "    scores.append(model4.score(X_test, y_test))\n",
    "    mse_fold = mean_squared_error(y_test, y_predict)\n",
    "    mse_list.append(mse_fold)\n",
    "    mae_fold = mean_absolute_error(y_test, y_predict)\n",
    "    mae_list.append(mae_fold)\n",
    "print('MSE',np.mean(mse_list))\n",
    "print('MAE',np.mean(mae_list))\n",
    "print('R-squared',np.mean(scores))"
   ]
  },
  {
   "cell_type": "code",
   "execution_count": 16,
   "id": "57b70295",
   "metadata": {},
   "outputs": [
    {
     "name": "stdout",
     "output_type": "stream",
     "text": [
      "MSE 7.82488981800023\n",
      "MAE 2.137250403629298\n",
      "R-squared -0.009126668575305752\n"
     ]
    }
   ],
   "source": [
    "scores= [] #to store r squared\n",
    "mse_list= [] #to store RMSE\n",
    "mae_list = []\n",
    "model5=XGBRegressor()\n",
    "cv = KFold(n_splits=5, random_state=42, shuffle=True)\n",
    "for train_index, test_index in cv.split(input_df):\n",
    "    X_train, X_test, y_train, y_test = input_df.loc[train_index], input_df.loc[test_index], targets.loc[train_index], targets.loc[test_index]\n",
    "    model5.fit(X_train, y_train)\n",
    "    y_predict = model5.predict(X_test)\n",
    "    scores.append(model5.score(X_test, y_test))\n",
    "    mse_fold = mean_squared_error(y_test, y_predict)\n",
    "    mse_list.append(mse_fold)\n",
    "    mae_fold = mean_absolute_error(y_test, y_predict)\n",
    "    mae_list.append(mae_fold)\n",
    "print('MSE',np.mean(mse_list))\n",
    "print('MAE',np.mean(mae_list))\n",
    "print('R-squared',np.mean(scores))"
   ]
  },
  {
   "cell_type": "code",
   "execution_count": 17,
   "id": "06a5f494",
   "metadata": {},
   "outputs": [
    {
     "name": "stdout",
     "output_type": "stream",
     "text": [
      "MSE 6.366374084879558\n",
      "MAE 1.9265992103766814\n",
      "R-squared 0.18675752380344335\n"
     ]
    }
   ],
   "source": [
    "scores= [] #to store r squared\n",
    "mse_list= [] #to store RMSE\n",
    "mae_list = []\n",
    "model6=RandomForestRegressor()\n",
    "cv = KFold(n_splits=5, random_state=42, shuffle=True)\n",
    "for train_index, test_index in cv.split(input_df):\n",
    "    X_train, X_test, y_train, y_test = input_df.loc[train_index], input_df.loc[test_index], targets.loc[train_index], targets.loc[test_index]\n",
    "    model6.fit(X_train, y_train)\n",
    "    y_predict = model6.predict(X_test)\n",
    "    scores.append(model6.score(X_test, y_test))\n",
    "    mse_fold = mean_squared_error(y_test, y_predict)\n",
    "    mse_list.append(mse_fold)\n",
    "    mae_fold = mean_absolute_error(y_test, y_predict)\n",
    "    mae_list.append(mae_fold)\n",
    "print('MSE',np.mean(mse_list))\n",
    "print('MAE',np.mean(mae_list))\n",
    "print('R-squared',np.mean(scores))"
   ]
  },
  {
   "cell_type": "code",
   "execution_count": 18,
   "id": "12914f02",
   "metadata": {},
   "outputs": [
    {
     "name": "stdout",
     "output_type": "stream",
     "text": [
      "MSE 6.927686928256269\n",
      "MAE 2.0082547096713323\n",
      "R-squared 0.12380475266547011\n"
     ]
    }
   ],
   "source": [
    "scores= [] #to store r squared\n",
    "mse_list= [] #to store RMSE\n",
    "mae_list = []\n",
    "model7=AdaBoostRegressor()\n",
    "cv = KFold(n_splits=5, random_state=42, shuffle=True)\n",
    "for train_index, test_index in cv.split(input_df):\n",
    "    X_train, X_test, y_train, y_test = input_df.loc[train_index], input_df.loc[test_index], targets.loc[train_index], targets.loc[test_index]\n",
    "    model7.fit(X_train, y_train)\n",
    "    y_predict = model7.predict(X_test)\n",
    "    scores.append(model7.score(X_test, y_test))\n",
    "    mse_fold = mean_squared_error(y_test, y_predict)\n",
    "    mse_list.append(mse_fold)\n",
    "    mae_fold = mean_absolute_error(y_test, y_predict)\n",
    "    mae_list.append(mae_fold)\n",
    "print('MSE',np.mean(mse_list))\n",
    "print('MAE',np.mean(mae_list))\n",
    "print('R-squared',np.mean(scores))"
   ]
  },
  {
   "cell_type": "code",
   "execution_count": 19,
   "id": "10432829",
   "metadata": {},
   "outputs": [
    {
     "name": "stdout",
     "output_type": "stream",
     "text": [
      "MSE 6.531663547818576\n",
      "MAE 1.9272068580075312\n",
      "R-squared 0.15279663519871048\n"
     ]
    }
   ],
   "source": [
    "scores= [] #to store r squared\n",
    "mse_list= [] #to store RMSE\n",
    "mae_list = []\n",
    "model8=GradientBoostingRegressor()\n",
    "cv = KFold(n_splits=20, random_state=42, shuffle=True)\n",
    "for train_index, test_index in cv.split(input_df):\n",
    "    X_train, X_test, y_train, y_test = input_df.loc[train_index], input_df.loc[test_index], targets.loc[train_index], targets.loc[test_index]\n",
    "    model8.fit(X_train, y_train)\n",
    "    y_predict = model8.predict(X_test)\n",
    "    scores.append(model8.score(X_test, y_test))\n",
    "    mse_fold = mean_squared_error(y_test, y_predict)\n",
    "    mse_list.append(mse_fold)\n",
    "    mae_fold = mean_absolute_error(y_test, y_predict)\n",
    "    mae_list.append(mae_fold)\n",
    "print('MSE',np.mean(mse_list))\n",
    "print('MAE',np.mean(mae_list))\n",
    "print('R-squared',np.mean(scores))"
   ]
  },
  {
   "cell_type": "markdown",
   "id": "a64e72e9",
   "metadata": {},
   "source": [
    "Support Vector regressor performs the best for this dataset."
   ]
  },
  {
   "cell_type": "code",
   "execution_count": null,
   "id": "4503c6a5",
   "metadata": {},
   "outputs": [],
   "source": []
  }
 ],
 "metadata": {
  "kernelspec": {
   "display_name": "Python 3 (ipykernel)",
   "language": "python",
   "name": "python3"
  },
  "language_info": {
   "codemirror_mode": {
    "name": "ipython",
    "version": 3
   },
   "file_extension": ".py",
   "mimetype": "text/x-python",
   "name": "python",
   "nbconvert_exporter": "python",
   "pygments_lexer": "ipython3",
   "version": "3.11.3"
  }
 },
 "nbformat": 4,
 "nbformat_minor": 5
}
