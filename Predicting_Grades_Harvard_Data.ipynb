{
 "cells": [
  {
   "cell_type": "code",
   "execution_count": 1,
   "id": "addb59f8",
   "metadata": {},
   "outputs": [],
   "source": [
    "import numpy as np\n",
    "import pandas as pd\n",
    "import matplotlib.pyplot as plt\n",
    "import seaborn as sns"
   ]
  },
  {
   "cell_type": "code",
   "execution_count": 2,
   "id": "a286fa52",
   "metadata": {},
   "outputs": [],
   "source": [
    "from sklearn.impute import SimpleImputer\n",
    "from sklearn.preprocessing import MinMaxScaler,OneHotEncoder\n",
    "from sklearn.model_selection import train_test_split"
   ]
  },
  {
   "cell_type": "code",
   "execution_count": 3,
   "id": "b886a4c3",
   "metadata": {},
   "outputs": [],
   "source": [
    "df = pd.read_csv('Harvard_preprocessed.csv')"
   ]
  },
  {
   "cell_type": "code",
   "execution_count": 4,
   "id": "c6ceac58",
   "metadata": {},
   "outputs": [
    {
     "data": {
      "text/html": [
       "<div>\n",
       "<style scoped>\n",
       "    .dataframe tbody tr th:only-of-type {\n",
       "        vertical-align: middle;\n",
       "    }\n",
       "\n",
       "    .dataframe tbody tr th {\n",
       "        vertical-align: top;\n",
       "    }\n",
       "\n",
       "    .dataframe thead th {\n",
       "        text-align: right;\n",
       "    }\n",
       "</style>\n",
       "<table border=\"1\" class=\"dataframe\">\n",
       "  <thead>\n",
       "    <tr style=\"text-align: right;\">\n",
       "      <th></th>\n",
       "      <th>course_id</th>\n",
       "      <th>userid_DI</th>\n",
       "      <th>registered</th>\n",
       "      <th>viewed</th>\n",
       "      <th>explored</th>\n",
       "      <th>certified</th>\n",
       "      <th>grade</th>\n",
       "      <th>nevents</th>\n",
       "      <th>ndays_act</th>\n",
       "      <th>nchapters</th>\n",
       "      <th>nforum_posts</th>\n",
       "      <th>Age</th>\n",
       "      <th>LoE_DI_labels</th>\n",
       "      <th>gender_labels</th>\n",
       "    </tr>\n",
       "  </thead>\n",
       "  <tbody>\n",
       "    <tr>\n",
       "      <th>0</th>\n",
       "      <td>HarvardX/CB22x/2013_Spring</td>\n",
       "      <td>MHxPC130442623</td>\n",
       "      <td>1</td>\n",
       "      <td>0</td>\n",
       "      <td>0</td>\n",
       "      <td>0</td>\n",
       "      <td>0.00</td>\n",
       "      <td>1</td>\n",
       "      <td>9</td>\n",
       "      <td>1</td>\n",
       "      <td>0</td>\n",
       "      <td>22</td>\n",
       "      <td>0</td>\n",
       "      <td>1</td>\n",
       "    </tr>\n",
       "    <tr>\n",
       "      <th>1</th>\n",
       "      <td>HarvardX/CB22x/2013_Spring</td>\n",
       "      <td>MHxPC130275857</td>\n",
       "      <td>1</td>\n",
       "      <td>0</td>\n",
       "      <td>0</td>\n",
       "      <td>0</td>\n",
       "      <td>0.00</td>\n",
       "      <td>1</td>\n",
       "      <td>16</td>\n",
       "      <td>1</td>\n",
       "      <td>0</td>\n",
       "      <td>23</td>\n",
       "      <td>0</td>\n",
       "      <td>1</td>\n",
       "    </tr>\n",
       "    <tr>\n",
       "      <th>2</th>\n",
       "      <td>HarvardX/CB22x/2013_Spring</td>\n",
       "      <td>MHxPC130539455</td>\n",
       "      <td>1</td>\n",
       "      <td>1</td>\n",
       "      <td>0</td>\n",
       "      <td>0</td>\n",
       "      <td>0.00</td>\n",
       "      <td>42</td>\n",
       "      <td>6</td>\n",
       "      <td>3</td>\n",
       "      <td>0</td>\n",
       "      <td>23</td>\n",
       "      <td>0</td>\n",
       "      <td>1</td>\n",
       "    </tr>\n",
       "    <tr>\n",
       "      <th>3</th>\n",
       "      <td>HarvardX/CB22x/2013_Spring</td>\n",
       "      <td>MHxPC130088379</td>\n",
       "      <td>1</td>\n",
       "      <td>1</td>\n",
       "      <td>0</td>\n",
       "      <td>0</td>\n",
       "      <td>0.00</td>\n",
       "      <td>70</td>\n",
       "      <td>3</td>\n",
       "      <td>3</td>\n",
       "      <td>0</td>\n",
       "      <td>23</td>\n",
       "      <td>0</td>\n",
       "      <td>1</td>\n",
       "    </tr>\n",
       "    <tr>\n",
       "      <th>4</th>\n",
       "      <td>HarvardX/CB22x/2013_Spring</td>\n",
       "      <td>MHxPC130024894</td>\n",
       "      <td>1</td>\n",
       "      <td>1</td>\n",
       "      <td>0</td>\n",
       "      <td>0</td>\n",
       "      <td>0.07</td>\n",
       "      <td>175</td>\n",
       "      <td>9</td>\n",
       "      <td>7</td>\n",
       "      <td>0</td>\n",
       "      <td>23</td>\n",
       "      <td>0</td>\n",
       "      <td>1</td>\n",
       "    </tr>\n",
       "  </tbody>\n",
       "</table>\n",
       "</div>"
      ],
      "text/plain": [
       "                    course_id       userid_DI  registered  viewed  explored  \\\n",
       "0  HarvardX/CB22x/2013_Spring  MHxPC130442623           1       0         0   \n",
       "1  HarvardX/CB22x/2013_Spring  MHxPC130275857           1       0         0   \n",
       "2  HarvardX/CB22x/2013_Spring  MHxPC130539455           1       1         0   \n",
       "3  HarvardX/CB22x/2013_Spring  MHxPC130088379           1       1         0   \n",
       "4  HarvardX/CB22x/2013_Spring  MHxPC130024894           1       1         0   \n",
       "\n",
       "   certified  grade  nevents  ndays_act  nchapters  nforum_posts  Age  \\\n",
       "0          0   0.00        1          9          1             0   22   \n",
       "1          0   0.00        1         16          1             0   23   \n",
       "2          0   0.00       42          6          3             0   23   \n",
       "3          0   0.00       70          3          3             0   23   \n",
       "4          0   0.07      175          9          7             0   23   \n",
       "\n",
       "   LoE_DI_labels  gender_labels  \n",
       "0              0              1  \n",
       "1              0              1  \n",
       "2              0              1  \n",
       "3              0              1  \n",
       "4              0              1  "
      ]
     },
     "execution_count": 4,
     "metadata": {},
     "output_type": "execute_result"
    }
   ],
   "source": [
    "df.head()"
   ]
  },
  {
   "cell_type": "code",
   "execution_count": 5,
   "id": "2638c4b0",
   "metadata": {},
   "outputs": [],
   "source": [
    "c=df.pop('grade')\n",
    "df['grade']=c"
   ]
  },
  {
   "cell_type": "code",
   "execution_count": 6,
   "id": "5e6f6c40",
   "metadata": {},
   "outputs": [
    {
     "name": "stdout",
     "output_type": "stream",
     "text": [
      "<class 'pandas.core.frame.DataFrame'>\n",
      "RangeIndex: 309638 entries, 0 to 309637\n",
      "Data columns (total 14 columns):\n",
      " #   Column         Non-Null Count   Dtype  \n",
      "---  ------         --------------   -----  \n",
      " 0   course_id      309638 non-null  object \n",
      " 1   userid_DI      309638 non-null  object \n",
      " 2   registered     309638 non-null  int64  \n",
      " 3   viewed         309638 non-null  int64  \n",
      " 4   explored       309638 non-null  int64  \n",
      " 5   certified      309638 non-null  int64  \n",
      " 6   nevents        309638 non-null  int64  \n",
      " 7   ndays_act      309638 non-null  int64  \n",
      " 8   nchapters      309638 non-null  int64  \n",
      " 9   nforum_posts   309638 non-null  int64  \n",
      " 10  Age            309638 non-null  int64  \n",
      " 11  LoE_DI_labels  309638 non-null  int64  \n",
      " 12  gender_labels  309638 non-null  int64  \n",
      " 13  grade          309638 non-null  float64\n",
      "dtypes: float64(1), int64(11), object(2)\n",
      "memory usage: 33.1+ MB\n"
     ]
    }
   ],
   "source": [
    "df.info()"
   ]
  },
  {
   "cell_type": "code",
   "execution_count": 7,
   "id": "f38661e1",
   "metadata": {},
   "outputs": [
    {
     "data": {
      "text/html": [
       "<div>\n",
       "<style scoped>\n",
       "    .dataframe tbody tr th:only-of-type {\n",
       "        vertical-align: middle;\n",
       "    }\n",
       "\n",
       "    .dataframe tbody tr th {\n",
       "        vertical-align: top;\n",
       "    }\n",
       "\n",
       "    .dataframe thead th {\n",
       "        text-align: right;\n",
       "    }\n",
       "</style>\n",
       "<table border=\"1\" class=\"dataframe\">\n",
       "  <thead>\n",
       "    <tr style=\"text-align: right;\">\n",
       "      <th></th>\n",
       "      <th>registered</th>\n",
       "      <th>viewed</th>\n",
       "      <th>explored</th>\n",
       "      <th>certified</th>\n",
       "      <th>nevents</th>\n",
       "      <th>ndays_act</th>\n",
       "      <th>nchapters</th>\n",
       "      <th>nforum_posts</th>\n",
       "      <th>Age</th>\n",
       "      <th>LoE_DI_labels</th>\n",
       "      <th>gender_labels</th>\n",
       "      <th>grade</th>\n",
       "    </tr>\n",
       "  </thead>\n",
       "  <tbody>\n",
       "    <tr>\n",
       "      <th>0</th>\n",
       "      <td>1</td>\n",
       "      <td>0</td>\n",
       "      <td>0</td>\n",
       "      <td>0</td>\n",
       "      <td>1</td>\n",
       "      <td>9</td>\n",
       "      <td>1</td>\n",
       "      <td>0</td>\n",
       "      <td>22</td>\n",
       "      <td>0</td>\n",
       "      <td>1</td>\n",
       "      <td>0.00</td>\n",
       "    </tr>\n",
       "    <tr>\n",
       "      <th>1</th>\n",
       "      <td>1</td>\n",
       "      <td>0</td>\n",
       "      <td>0</td>\n",
       "      <td>0</td>\n",
       "      <td>1</td>\n",
       "      <td>16</td>\n",
       "      <td>1</td>\n",
       "      <td>0</td>\n",
       "      <td>23</td>\n",
       "      <td>0</td>\n",
       "      <td>1</td>\n",
       "      <td>0.00</td>\n",
       "    </tr>\n",
       "    <tr>\n",
       "      <th>2</th>\n",
       "      <td>1</td>\n",
       "      <td>1</td>\n",
       "      <td>0</td>\n",
       "      <td>0</td>\n",
       "      <td>42</td>\n",
       "      <td>6</td>\n",
       "      <td>3</td>\n",
       "      <td>0</td>\n",
       "      <td>23</td>\n",
       "      <td>0</td>\n",
       "      <td>1</td>\n",
       "      <td>0.00</td>\n",
       "    </tr>\n",
       "    <tr>\n",
       "      <th>3</th>\n",
       "      <td>1</td>\n",
       "      <td>1</td>\n",
       "      <td>0</td>\n",
       "      <td>0</td>\n",
       "      <td>70</td>\n",
       "      <td>3</td>\n",
       "      <td>3</td>\n",
       "      <td>0</td>\n",
       "      <td>23</td>\n",
       "      <td>0</td>\n",
       "      <td>1</td>\n",
       "      <td>0.00</td>\n",
       "    </tr>\n",
       "    <tr>\n",
       "      <th>4</th>\n",
       "      <td>1</td>\n",
       "      <td>1</td>\n",
       "      <td>0</td>\n",
       "      <td>0</td>\n",
       "      <td>175</td>\n",
       "      <td>9</td>\n",
       "      <td>7</td>\n",
       "      <td>0</td>\n",
       "      <td>23</td>\n",
       "      <td>0</td>\n",
       "      <td>1</td>\n",
       "      <td>0.07</td>\n",
       "    </tr>\n",
       "  </tbody>\n",
       "</table>\n",
       "</div>"
      ],
      "text/plain": [
       "   registered  viewed  explored  certified  nevents  ndays_act  nchapters  \\\n",
       "0           1       0         0          0        1          9          1   \n",
       "1           1       0         0          0        1         16          1   \n",
       "2           1       1         0          0       42          6          3   \n",
       "3           1       1         0          0       70          3          3   \n",
       "4           1       1         0          0      175          9          7   \n",
       "\n",
       "   nforum_posts  Age  LoE_DI_labels  gender_labels  grade  \n",
       "0             0   22              0              1   0.00  \n",
       "1             0   23              0              1   0.00  \n",
       "2             0   23              0              1   0.00  \n",
       "3             0   23              0              1   0.00  \n",
       "4             0   23              0              1   0.07  "
      ]
     },
     "execution_count": 7,
     "metadata": {},
     "output_type": "execute_result"
    }
   ],
   "source": [
    "df = df.drop(['course_id','userid_DI'],axis = 1)\n",
    "df.head()"
   ]
  },
  {
   "cell_type": "code",
   "execution_count": 8,
   "id": "d2761acf",
   "metadata": {},
   "outputs": [],
   "source": [
    "#Identify input and target columns\n",
    "input_cols,target_cols=df.columns[:-1],df.columns[-1]\n",
    "input_df,targets=df[input_cols].copy(),df[target_cols].copy()"
   ]
  },
  {
   "cell_type": "code",
   "execution_count": 9,
   "id": "06caa3b6",
   "metadata": {},
   "outputs": [],
   "source": [
    "cols1=input_df.columns[:9]"
   ]
  },
  {
   "cell_type": "code",
   "execution_count": 10,
   "id": "ecfd1290",
   "metadata": {},
   "outputs": [],
   "source": [
    "scaler=MinMaxScaler().fit(input_df[cols1])\n",
    "input_df[cols1]=scaler.transform(input_df[cols1])"
   ]
  },
  {
   "cell_type": "code",
   "execution_count": 11,
   "id": "569e23c1",
   "metadata": {
    "scrolled": true
   },
   "outputs": [
    {
     "data": {
      "text/html": [
       "<div>\n",
       "<style scoped>\n",
       "    .dataframe tbody tr th:only-of-type {\n",
       "        vertical-align: middle;\n",
       "    }\n",
       "\n",
       "    .dataframe tbody tr th {\n",
       "        vertical-align: top;\n",
       "    }\n",
       "\n",
       "    .dataframe thead th {\n",
       "        text-align: right;\n",
       "    }\n",
       "</style>\n",
       "<table border=\"1\" class=\"dataframe\">\n",
       "  <thead>\n",
       "    <tr style=\"text-align: right;\">\n",
       "      <th></th>\n",
       "      <th>registered</th>\n",
       "      <th>viewed</th>\n",
       "      <th>explored</th>\n",
       "      <th>certified</th>\n",
       "      <th>nevents</th>\n",
       "      <th>ndays_act</th>\n",
       "      <th>nchapters</th>\n",
       "      <th>nforum_posts</th>\n",
       "      <th>Age</th>\n",
       "      <th>LoE_DI_labels</th>\n",
       "      <th>gender_labels</th>\n",
       "    </tr>\n",
       "  </thead>\n",
       "  <tbody>\n",
       "    <tr>\n",
       "      <th>0</th>\n",
       "      <td>0.0</td>\n",
       "      <td>0.0</td>\n",
       "      <td>0.0</td>\n",
       "      <td>0.0</td>\n",
       "      <td>0.000000</td>\n",
       "      <td>0.045714</td>\n",
       "      <td>0.000000</td>\n",
       "      <td>0.0</td>\n",
       "      <td>0.268293</td>\n",
       "      <td>0</td>\n",
       "      <td>1</td>\n",
       "    </tr>\n",
       "    <tr>\n",
       "      <th>1</th>\n",
       "      <td>0.0</td>\n",
       "      <td>0.0</td>\n",
       "      <td>0.0</td>\n",
       "      <td>0.0</td>\n",
       "      <td>0.000000</td>\n",
       "      <td>0.085714</td>\n",
       "      <td>0.000000</td>\n",
       "      <td>0.0</td>\n",
       "      <td>0.280488</td>\n",
       "      <td>0</td>\n",
       "      <td>1</td>\n",
       "    </tr>\n",
       "    <tr>\n",
       "      <th>2</th>\n",
       "      <td>0.0</td>\n",
       "      <td>1.0</td>\n",
       "      <td>0.0</td>\n",
       "      <td>0.0</td>\n",
       "      <td>0.000934</td>\n",
       "      <td>0.028571</td>\n",
       "      <td>0.060606</td>\n",
       "      <td>0.0</td>\n",
       "      <td>0.280488</td>\n",
       "      <td>0</td>\n",
       "      <td>1</td>\n",
       "    </tr>\n",
       "    <tr>\n",
       "      <th>3</th>\n",
       "      <td>0.0</td>\n",
       "      <td>1.0</td>\n",
       "      <td>0.0</td>\n",
       "      <td>0.0</td>\n",
       "      <td>0.001573</td>\n",
       "      <td>0.011429</td>\n",
       "      <td>0.060606</td>\n",
       "      <td>0.0</td>\n",
       "      <td>0.280488</td>\n",
       "      <td>0</td>\n",
       "      <td>1</td>\n",
       "    </tr>\n",
       "    <tr>\n",
       "      <th>4</th>\n",
       "      <td>0.0</td>\n",
       "      <td>1.0</td>\n",
       "      <td>0.0</td>\n",
       "      <td>0.0</td>\n",
       "      <td>0.003965</td>\n",
       "      <td>0.045714</td>\n",
       "      <td>0.181818</td>\n",
       "      <td>0.0</td>\n",
       "      <td>0.280488</td>\n",
       "      <td>0</td>\n",
       "      <td>1</td>\n",
       "    </tr>\n",
       "  </tbody>\n",
       "</table>\n",
       "</div>"
      ],
      "text/plain": [
       "   registered  viewed  explored  certified   nevents  ndays_act  nchapters  \\\n",
       "0         0.0     0.0       0.0        0.0  0.000000   0.045714   0.000000   \n",
       "1         0.0     0.0       0.0        0.0  0.000000   0.085714   0.000000   \n",
       "2         0.0     1.0       0.0        0.0  0.000934   0.028571   0.060606   \n",
       "3         0.0     1.0       0.0        0.0  0.001573   0.011429   0.060606   \n",
       "4         0.0     1.0       0.0        0.0  0.003965   0.045714   0.181818   \n",
       "\n",
       "   nforum_posts       Age  LoE_DI_labels  gender_labels  \n",
       "0           0.0  0.268293              0              1  \n",
       "1           0.0  0.280488              0              1  \n",
       "2           0.0  0.280488              0              1  \n",
       "3           0.0  0.280488              0              1  \n",
       "4           0.0  0.280488              0              1  "
      ]
     },
     "execution_count": 11,
     "metadata": {},
     "output_type": "execute_result"
    }
   ],
   "source": [
    "input_df.head()"
   ]
  },
  {
   "cell_type": "code",
   "execution_count": 12,
   "id": "ba2beca0",
   "metadata": {},
   "outputs": [],
   "source": [
    "cols2=input_df.columns[9:]"
   ]
  },
  {
   "cell_type": "code",
   "execution_count": 13,
   "id": "afd0be79",
   "metadata": {},
   "outputs": [],
   "source": [
    "#input_df[cols2]"
   ]
  },
  {
   "cell_type": "code",
   "execution_count": 14,
   "id": "a188e592",
   "metadata": {},
   "outputs": [
    {
     "name": "stdout",
     "output_type": "stream",
     "text": [
      "        registered  viewed  explored  certified   nevents  ndays_act  \\\n",
      "0              0.0     0.0       0.0        0.0  0.000000   0.045714   \n",
      "1              0.0     0.0       0.0        0.0  0.000000   0.085714   \n",
      "2              0.0     1.0       0.0        0.0  0.000934   0.028571   \n",
      "3              0.0     1.0       0.0        0.0  0.001573   0.011429   \n",
      "4              0.0     1.0       0.0        0.0  0.003965   0.045714   \n",
      "...            ...     ...       ...        ...       ...        ...   \n",
      "309633         0.0     1.0       0.0        0.0  0.000433   0.000000   \n",
      "309634         0.0     1.0       0.0        0.0  0.001709   0.000000   \n",
      "309635         0.0     0.0       0.0        0.0  0.000023   0.000000   \n",
      "309636         0.0     1.0       0.0        0.0  0.000820   0.011429   \n",
      "309637         0.0     0.0       0.0        0.0  0.000000   0.000000   \n",
      "\n",
      "        nchapters  nforum_posts       Age  LoE_DI_labels_0  LoE_DI_labels_1  \\\n",
      "0        0.000000           0.0  0.268293                1                0   \n",
      "1        0.000000           0.0  0.280488                1                0   \n",
      "2        0.060606           0.0  0.280488                1                0   \n",
      "3        0.060606           0.0  0.280488                1                0   \n",
      "4        0.181818           0.0  0.280488                1                0   \n",
      "...           ...           ...       ...              ...              ...   \n",
      "309633   0.030303           0.0  0.280488                0                0   \n",
      "309634   0.030303           0.0  0.231707                0                0   \n",
      "309635   0.000000           0.0  0.317073                1                0   \n",
      "309636   0.000000           0.0  0.280488                0                0   \n",
      "309637   0.000000           0.0  0.304878                0                0   \n",
      "\n",
      "        LoE_DI_labels_2  LoE_DI_labels_3  LoE_DI_labels_4  gender_labels_0  \\\n",
      "0                     0                0                0                0   \n",
      "1                     0                0                0                0   \n",
      "2                     0                0                0                0   \n",
      "3                     0                0                0                0   \n",
      "4                     0                0                0                0   \n",
      "...                 ...              ...              ...              ...   \n",
      "309633                0                0                1                0   \n",
      "309634                0                0                1                0   \n",
      "309635                0                0                0                0   \n",
      "309636                0                1                0                0   \n",
      "309637                0                1                0                0   \n",
      "\n",
      "        gender_labels_1  gender_labels_2  \n",
      "0                     1                0  \n",
      "1                     1                0  \n",
      "2                     1                0  \n",
      "3                     1                0  \n",
      "4                     1                0  \n",
      "...                 ...              ...  \n",
      "309633                1                0  \n",
      "309634                1                0  \n",
      "309635                1                0  \n",
      "309636                1                0  \n",
      "309637                1                0  \n",
      "\n",
      "[309638 rows x 17 columns]\n"
     ]
    }
   ],
   "source": [
    "#For categorical columns\n",
    "one_hot_encoded_data = pd.get_dummies(input_df, columns = ['LoE_DI_labels', 'gender_labels'])\n",
    "print(one_hot_encoded_data)"
   ]
  },
  {
   "cell_type": "code",
   "execution_count": 15,
   "id": "f3d4d4e1",
   "metadata": {},
   "outputs": [],
   "source": [
    "input_df = one_hot_encoded_data"
   ]
  },
  {
   "cell_type": "code",
   "execution_count": 16,
   "id": "2ee7c265",
   "metadata": {},
   "outputs": [
    {
     "data": {
      "text/plain": [
       "(309638, 17)"
      ]
     },
     "execution_count": 16,
     "metadata": {},
     "output_type": "execute_result"
    }
   ],
   "source": [
    "input_df.shape"
   ]
  },
  {
   "cell_type": "code",
   "execution_count": 17,
   "id": "810d88ae",
   "metadata": {},
   "outputs": [],
   "source": [
    "X_train,X_test,y_train,y_test=train_test_split(input_df,targets,test_size=0.25,random_state=42)"
   ]
  },
  {
   "cell_type": "code",
   "execution_count": 18,
   "id": "1d95decf",
   "metadata": {},
   "outputs": [
    {
     "data": {
      "text/html": [
       "<div>\n",
       "<style scoped>\n",
       "    .dataframe tbody tr th:only-of-type {\n",
       "        vertical-align: middle;\n",
       "    }\n",
       "\n",
       "    .dataframe tbody tr th {\n",
       "        vertical-align: top;\n",
       "    }\n",
       "\n",
       "    .dataframe thead th {\n",
       "        text-align: right;\n",
       "    }\n",
       "</style>\n",
       "<table border=\"1\" class=\"dataframe\">\n",
       "  <thead>\n",
       "    <tr style=\"text-align: right;\">\n",
       "      <th></th>\n",
       "      <th>registered</th>\n",
       "      <th>viewed</th>\n",
       "      <th>explored</th>\n",
       "      <th>certified</th>\n",
       "      <th>nevents</th>\n",
       "      <th>ndays_act</th>\n",
       "      <th>nchapters</th>\n",
       "      <th>nforum_posts</th>\n",
       "      <th>Age</th>\n",
       "      <th>LoE_DI_labels_0</th>\n",
       "      <th>LoE_DI_labels_1</th>\n",
       "      <th>LoE_DI_labels_2</th>\n",
       "      <th>LoE_DI_labels_3</th>\n",
       "      <th>LoE_DI_labels_4</th>\n",
       "      <th>gender_labels_0</th>\n",
       "      <th>gender_labels_1</th>\n",
       "      <th>gender_labels_2</th>\n",
       "    </tr>\n",
       "  </thead>\n",
       "  <tbody>\n",
       "    <tr>\n",
       "      <th>172467</th>\n",
       "      <td>0.0</td>\n",
       "      <td>1.0</td>\n",
       "      <td>0.0</td>\n",
       "      <td>0.0</td>\n",
       "      <td>0.000046</td>\n",
       "      <td>0.000000</td>\n",
       "      <td>0.000000</td>\n",
       "      <td>0.0</td>\n",
       "      <td>0.182927</td>\n",
       "      <td>0</td>\n",
       "      <td>0</td>\n",
       "      <td>1</td>\n",
       "      <td>0</td>\n",
       "      <td>0</td>\n",
       "      <td>0</td>\n",
       "      <td>1</td>\n",
       "      <td>0</td>\n",
       "    </tr>\n",
       "    <tr>\n",
       "      <th>296743</th>\n",
       "      <td>0.0</td>\n",
       "      <td>1.0</td>\n",
       "      <td>0.0</td>\n",
       "      <td>0.0</td>\n",
       "      <td>0.006609</td>\n",
       "      <td>0.011429</td>\n",
       "      <td>0.030303</td>\n",
       "      <td>0.0</td>\n",
       "      <td>0.292683</td>\n",
       "      <td>1</td>\n",
       "      <td>0</td>\n",
       "      <td>0</td>\n",
       "      <td>0</td>\n",
       "      <td>0</td>\n",
       "      <td>1</td>\n",
       "      <td>0</td>\n",
       "      <td>0</td>\n",
       "    </tr>\n",
       "    <tr>\n",
       "      <th>289027</th>\n",
       "      <td>0.0</td>\n",
       "      <td>0.0</td>\n",
       "      <td>0.0</td>\n",
       "      <td>0.0</td>\n",
       "      <td>0.000000</td>\n",
       "      <td>0.000000</td>\n",
       "      <td>0.000000</td>\n",
       "      <td>0.0</td>\n",
       "      <td>0.304878</td>\n",
       "      <td>1</td>\n",
       "      <td>0</td>\n",
       "      <td>0</td>\n",
       "      <td>0</td>\n",
       "      <td>0</td>\n",
       "      <td>0</td>\n",
       "      <td>1</td>\n",
       "      <td>0</td>\n",
       "    </tr>\n",
       "    <tr>\n",
       "      <th>44842</th>\n",
       "      <td>0.0</td>\n",
       "      <td>0.0</td>\n",
       "      <td>0.0</td>\n",
       "      <td>0.0</td>\n",
       "      <td>0.000000</td>\n",
       "      <td>0.000000</td>\n",
       "      <td>0.000000</td>\n",
       "      <td>0.0</td>\n",
       "      <td>0.378049</td>\n",
       "      <td>1</td>\n",
       "      <td>0</td>\n",
       "      <td>0</td>\n",
       "      <td>0</td>\n",
       "      <td>0</td>\n",
       "      <td>0</td>\n",
       "      <td>1</td>\n",
       "      <td>0</td>\n",
       "    </tr>\n",
       "    <tr>\n",
       "      <th>256339</th>\n",
       "      <td>0.0</td>\n",
       "      <td>1.0</td>\n",
       "      <td>1.0</td>\n",
       "      <td>0.0</td>\n",
       "      <td>0.086146</td>\n",
       "      <td>0.222857</td>\n",
       "      <td>0.424242</td>\n",
       "      <td>0.0</td>\n",
       "      <td>0.353659</td>\n",
       "      <td>1</td>\n",
       "      <td>0</td>\n",
       "      <td>0</td>\n",
       "      <td>0</td>\n",
       "      <td>0</td>\n",
       "      <td>1</td>\n",
       "      <td>0</td>\n",
       "      <td>0</td>\n",
       "    </tr>\n",
       "  </tbody>\n",
       "</table>\n",
       "</div>"
      ],
      "text/plain": [
       "        registered  viewed  explored  certified   nevents  ndays_act  \\\n",
       "172467         0.0     1.0       0.0        0.0  0.000046   0.000000   \n",
       "296743         0.0     1.0       0.0        0.0  0.006609   0.011429   \n",
       "289027         0.0     0.0       0.0        0.0  0.000000   0.000000   \n",
       "44842          0.0     0.0       0.0        0.0  0.000000   0.000000   \n",
       "256339         0.0     1.0       1.0        0.0  0.086146   0.222857   \n",
       "\n",
       "        nchapters  nforum_posts       Age  LoE_DI_labels_0  LoE_DI_labels_1  \\\n",
       "172467   0.000000           0.0  0.182927                0                0   \n",
       "296743   0.030303           0.0  0.292683                1                0   \n",
       "289027   0.000000           0.0  0.304878                1                0   \n",
       "44842    0.000000           0.0  0.378049                1                0   \n",
       "256339   0.424242           0.0  0.353659                1                0   \n",
       "\n",
       "        LoE_DI_labels_2  LoE_DI_labels_3  LoE_DI_labels_4  gender_labels_0  \\\n",
       "172467                1                0                0                0   \n",
       "296743                0                0                0                1   \n",
       "289027                0                0                0                0   \n",
       "44842                 0                0                0                0   \n",
       "256339                0                0                0                1   \n",
       "\n",
       "        gender_labels_1  gender_labels_2  \n",
       "172467                1                0  \n",
       "296743                0                0  \n",
       "289027                1                0  \n",
       "44842                 1                0  \n",
       "256339                0                0  "
      ]
     },
     "execution_count": 18,
     "metadata": {},
     "output_type": "execute_result"
    }
   ],
   "source": [
    "X_train.head()"
   ]
  },
  {
   "cell_type": "code",
   "execution_count": 19,
   "id": "6759ceb2",
   "metadata": {},
   "outputs": [
    {
     "data": {
      "text/plain": [
       "172467    0.00\n",
       "296743    0.02\n",
       "289027    0.00\n",
       "44842     0.00\n",
       "256339    0.45\n",
       "Name: grade, dtype: float64"
      ]
     },
     "execution_count": 19,
     "metadata": {},
     "output_type": "execute_result"
    }
   ],
   "source": [
    "y_train.head()"
   ]
  },
  {
   "cell_type": "markdown",
   "id": "311aa36c",
   "metadata": {},
   "source": [
    "The first model we are implementing is the Linear regression model. Next, we will check SVM,Naive Bayes,Decision tree (and its variants i.e. ensemble techniques). Finally we will compare the performance of the models using MAE and MSE on the test set."
   ]
  },
  {
   "cell_type": "code",
   "execution_count": 20,
   "id": "ca85419c",
   "metadata": {},
   "outputs": [],
   "source": [
    "from sklearn.linear_model import LinearRegression\n",
    "from sklearn.svm import LinearSVR\n",
    "from sklearn.naive_bayes import GaussianNB\n",
    "from sklearn.tree import DecisionTreeRegressor\n",
    "from xgboost import XGBRegressor\n",
    "from sklearn.ensemble import RandomForestRegressor, AdaBoostRegressor, GradientBoostingRegressor\n",
    "from sklearn.metrics import mean_squared_error,mean_absolute_error\n",
    "import warnings\n",
    "warnings.simplefilter(action='ignore')"
   ]
  },
  {
   "cell_type": "code",
   "execution_count": 21,
   "id": "efaf69a1",
   "metadata": {},
   "outputs": [
    {
     "data": {
      "text/html": [
       "<style>#sk-container-id-1 {color: black;background-color: white;}#sk-container-id-1 pre{padding: 0;}#sk-container-id-1 div.sk-toggleable {background-color: white;}#sk-container-id-1 label.sk-toggleable__label {cursor: pointer;display: block;width: 100%;margin-bottom: 0;padding: 0.3em;box-sizing: border-box;text-align: center;}#sk-container-id-1 label.sk-toggleable__label-arrow:before {content: \"▸\";float: left;margin-right: 0.25em;color: #696969;}#sk-container-id-1 label.sk-toggleable__label-arrow:hover:before {color: black;}#sk-container-id-1 div.sk-estimator:hover label.sk-toggleable__label-arrow:before {color: black;}#sk-container-id-1 div.sk-toggleable__content {max-height: 0;max-width: 0;overflow: hidden;text-align: left;background-color: #f0f8ff;}#sk-container-id-1 div.sk-toggleable__content pre {margin: 0.2em;color: black;border-radius: 0.25em;background-color: #f0f8ff;}#sk-container-id-1 input.sk-toggleable__control:checked~div.sk-toggleable__content {max-height: 200px;max-width: 100%;overflow: auto;}#sk-container-id-1 input.sk-toggleable__control:checked~label.sk-toggleable__label-arrow:before {content: \"▾\";}#sk-container-id-1 div.sk-estimator input.sk-toggleable__control:checked~label.sk-toggleable__label {background-color: #d4ebff;}#sk-container-id-1 div.sk-label input.sk-toggleable__control:checked~label.sk-toggleable__label {background-color: #d4ebff;}#sk-container-id-1 input.sk-hidden--visually {border: 0;clip: rect(1px 1px 1px 1px);clip: rect(1px, 1px, 1px, 1px);height: 1px;margin: -1px;overflow: hidden;padding: 0;position: absolute;width: 1px;}#sk-container-id-1 div.sk-estimator {font-family: monospace;background-color: #f0f8ff;border: 1px dotted black;border-radius: 0.25em;box-sizing: border-box;margin-bottom: 0.5em;}#sk-container-id-1 div.sk-estimator:hover {background-color: #d4ebff;}#sk-container-id-1 div.sk-parallel-item::after {content: \"\";width: 100%;border-bottom: 1px solid gray;flex-grow: 1;}#sk-container-id-1 div.sk-label:hover label.sk-toggleable__label {background-color: #d4ebff;}#sk-container-id-1 div.sk-serial::before {content: \"\";position: absolute;border-left: 1px solid gray;box-sizing: border-box;top: 0;bottom: 0;left: 50%;z-index: 0;}#sk-container-id-1 div.sk-serial {display: flex;flex-direction: column;align-items: center;background-color: white;padding-right: 0.2em;padding-left: 0.2em;position: relative;}#sk-container-id-1 div.sk-item {position: relative;z-index: 1;}#sk-container-id-1 div.sk-parallel {display: flex;align-items: stretch;justify-content: center;background-color: white;position: relative;}#sk-container-id-1 div.sk-item::before, #sk-container-id-1 div.sk-parallel-item::before {content: \"\";position: absolute;border-left: 1px solid gray;box-sizing: border-box;top: 0;bottom: 0;left: 50%;z-index: -1;}#sk-container-id-1 div.sk-parallel-item {display: flex;flex-direction: column;z-index: 1;position: relative;background-color: white;}#sk-container-id-1 div.sk-parallel-item:first-child::after {align-self: flex-end;width: 50%;}#sk-container-id-1 div.sk-parallel-item:last-child::after {align-self: flex-start;width: 50%;}#sk-container-id-1 div.sk-parallel-item:only-child::after {width: 0;}#sk-container-id-1 div.sk-dashed-wrapped {border: 1px dashed gray;margin: 0 0.4em 0.5em 0.4em;box-sizing: border-box;padding-bottom: 0.4em;background-color: white;}#sk-container-id-1 div.sk-label label {font-family: monospace;font-weight: bold;display: inline-block;line-height: 1.2em;}#sk-container-id-1 div.sk-label-container {text-align: center;}#sk-container-id-1 div.sk-container {/* jupyter's `normalize.less` sets `[hidden] { display: none; }` but bootstrap.min.css set `[hidden] { display: none !important; }` so we also need the `!important` here to be able to override the default hidden behavior on the sphinx rendered scikit-learn.org. See: https://github.com/scikit-learn/scikit-learn/issues/21755 */display: inline-block !important;position: relative;}#sk-container-id-1 div.sk-text-repr-fallback {display: none;}</style><div id=\"sk-container-id-1\" class=\"sk-top-container\"><div class=\"sk-text-repr-fallback\"><pre>LinearRegression()</pre><b>In a Jupyter environment, please rerun this cell to show the HTML representation or trust the notebook. <br />On GitHub, the HTML representation is unable to render, please try loading this page with nbviewer.org.</b></div><div class=\"sk-container\" hidden><div class=\"sk-item\"><div class=\"sk-estimator sk-toggleable\"><input class=\"sk-toggleable__control sk-hidden--visually\" id=\"sk-estimator-id-1\" type=\"checkbox\" checked><label for=\"sk-estimator-id-1\" class=\"sk-toggleable__label sk-toggleable__label-arrow\">LinearRegression</label><div class=\"sk-toggleable__content\"><pre>LinearRegression()</pre></div></div></div></div></div>"
      ],
      "text/plain": [
       "LinearRegression()"
      ]
     },
     "execution_count": 21,
     "metadata": {},
     "output_type": "execute_result"
    }
   ],
   "source": [
    "#from sklearn.linear_model import LinearRegression\n",
    "\n",
    "model1 = LinearRegression()\n",
    "model1.fit(X_train, y_train)\n"
   ]
  },
  {
   "cell_type": "code",
   "execution_count": 22,
   "id": "030fe015",
   "metadata": {},
   "outputs": [
    {
     "name": "stdout",
     "output_type": "stream",
     "text": [
      "MSE 0.001648917045097737\n",
      "MAE 0.01078671656121827\n"
     ]
    }
   ],
   "source": [
    "y_pred=model1.predict(X_test)\n",
    "print('MSE',mean_squared_error(y_pred,y_test))\n",
    "print('MAE',mean_absolute_error(y_pred,y_test))"
   ]
  },
  {
   "cell_type": "code",
   "execution_count": 24,
   "id": "6f294dd6",
   "metadata": {},
   "outputs": [
    {
     "name": "stdout",
     "output_type": "stream",
     "text": [
      "MSE 0.0018579817687362909\n",
      "MAE 0.007769467709595929\n"
     ]
    }
   ],
   "source": [
    "#SVR\n",
    "model2 = LinearSVR()\n",
    "model2.fit(X_train, y_train)\n",
    "y_pred=model2.predict(X_test)\n",
    "print('MSE',mean_squared_error(y_pred,y_test))\n",
    "print('MAE',mean_absolute_error(y_pred,y_test))"
   ]
  },
  {
   "cell_type": "code",
   "execution_count": 26,
   "id": "159edef0",
   "metadata": {},
   "outputs": [
    {
     "data": {
      "text/plain": [
       "\"\\nmodel3 = GaussianNB()\\nmodel3.fit(X_train, y_train)\\ny_pred = model3.predict(X_test)\\nprint('MSE',mean_squared_error(y_pred,y_test))\\nprint('MAE',mean_absolute_error(y_pred,y_test))\\n\""
      ]
     },
     "execution_count": 26,
     "metadata": {},
     "output_type": "execute_result"
    }
   ],
   "source": [
    "# Naive Bayes\n",
    "'''\n",
    "model3 = GaussianNB()\n",
    "model3.fit(X_train, y_train)\n",
    "y_pred = model3.predict(X_test)\n",
    "print('MSE',mean_squared_error(y_pred,y_test))\n",
    "print('MAE',mean_absolute_error(y_pred,y_test))\n",
    "'''"
   ]
  },
  {
   "cell_type": "code",
   "execution_count": 27,
   "id": "5890dc3e",
   "metadata": {},
   "outputs": [
    {
     "name": "stdout",
     "output_type": "stream",
     "text": [
      "MSE 0.0018284307189280898\n",
      "MAE 0.007449580608851486\n"
     ]
    }
   ],
   "source": [
    "model4=DecisionTreeRegressor()\n",
    "model4.fit(X_train,y_train)\n",
    "y_pred = model4.predict(X_test)\n",
    "print('MSE',mean_squared_error(y_pred,y_test))\n",
    "print('MAE',mean_absolute_error(y_pred,y_test))"
   ]
  },
  {
   "cell_type": "code",
   "execution_count": 28,
   "id": "fd818f05",
   "metadata": {},
   "outputs": [
    {
     "name": "stdout",
     "output_type": "stream",
     "text": [
      "MSE 0.0008946874328948235\n",
      "MAE 0.005753502458952777\n"
     ]
    }
   ],
   "source": [
    "model5=XGBRegressor()\n",
    "model5.fit(X_train,y_train)\n",
    "y_pred = model5.predict(X_test)\n",
    "print('MSE',mean_squared_error(y_pred,y_test))\n",
    "print('MAE',mean_absolute_error(y_pred,y_test))"
   ]
  },
  {
   "cell_type": "code",
   "execution_count": 29,
   "id": "b576cbb2",
   "metadata": {},
   "outputs": [
    {
     "name": "stdout",
     "output_type": "stream",
     "text": [
      "MSE 0.0009170814624631801\n",
      "MAE 0.005759953108208638\n"
     ]
    }
   ],
   "source": [
    "model6=RandomForestRegressor()\n",
    "model6.fit(X_train,y_train)\n",
    "y_pred = model6.predict(X_test)\n",
    "print('MSE',mean_squared_error(y_pred,y_test))\n",
    "print('MAE',mean_absolute_error(y_pred,y_test))"
   ]
  },
  {
   "cell_type": "code",
   "execution_count": 30,
   "id": "1644dd60",
   "metadata": {},
   "outputs": [
    {
     "name": "stdout",
     "output_type": "stream",
     "text": [
      "MSE 0.0015528524683333573\n",
      "MAE 0.010312217573154524\n"
     ]
    }
   ],
   "source": [
    "model7=AdaBoostRegressor()\n",
    "model7.fit(X_train,y_train)\n",
    "y_pred = model7.predict(X_test)\n",
    "print('MSE',mean_squared_error(y_pred,y_test))\n",
    "print('MAE',mean_absolute_error(y_pred,y_test))"
   ]
  },
  {
   "cell_type": "code",
   "execution_count": 31,
   "id": "f26a99fd",
   "metadata": {},
   "outputs": [
    {
     "name": "stdout",
     "output_type": "stream",
     "text": [
      "MSE 0.0009172980310400558\n",
      "MAE 0.006063723772118269\n"
     ]
    }
   ],
   "source": [
    "model8=GradientBoostingRegressor()\n",
    "model8.fit(X_train,y_train)\n",
    "y_pred = model8.predict(X_test)\n",
    "print('MSE',mean_squared_error(y_pred,y_test))\n",
    "print('MAE',mean_absolute_error(y_pred,y_test))"
   ]
  },
  {
   "cell_type": "markdown",
   "id": "f13b7284",
   "metadata": {},
   "source": [
    "In the above analysis, we can see that we get the best results using XGBoost Regressor."
   ]
  }
 ],
 "metadata": {
  "kernelspec": {
   "display_name": "Python 3 (ipykernel)",
   "language": "python",
   "name": "python3"
  },
  "language_info": {
   "codemirror_mode": {
    "name": "ipython",
    "version": 3
   },
   "file_extension": ".py",
   "mimetype": "text/x-python",
   "name": "python",
   "nbconvert_exporter": "python",
   "pygments_lexer": "ipython3",
   "version": "3.11.3"
  }
 },
 "nbformat": 4,
 "nbformat_minor": 5
}
