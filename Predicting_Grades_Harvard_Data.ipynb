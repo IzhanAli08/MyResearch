{
 "cells": [
  {
   "cell_type": "code",
   "execution_count": 1,
   "id": "addb59f8",
   "metadata": {},
   "outputs": [],
   "source": [
    "import numpy as np\n",
    "import pandas as pd\n",
    "import matplotlib.pyplot as plt\n",
    "import seaborn as sns"
   ]
  },
  {
   "cell_type": "code",
   "execution_count": 2,
   "id": "a286fa52",
   "metadata": {},
   "outputs": [],
   "source": [
    "from sklearn.impute import SimpleImputer\n",
    "from sklearn.preprocessing import MinMaxScaler,OneHotEncoder\n",
    "from sklearn.model_selection import train_test_split\n",
    "from sklearn.model_selection import KFold"
   ]
  },
  {
   "cell_type": "code",
   "execution_count": 5,
   "id": "b886a4c3",
   "metadata": {},
   "outputs": [],
   "source": [
    "df = pd.read_csv('Harvard_preprocessed.csv')"
   ]
  },
  {
   "cell_type": "code",
   "execution_count": 6,
   "id": "c6ceac58",
   "metadata": {},
   "outputs": [
    {
     "data": {
      "text/html": [
       "<div>\n",
       "<style scoped>\n",
       "    .dataframe tbody tr th:only-of-type {\n",
       "        vertical-align: middle;\n",
       "    }\n",
       "\n",
       "    .dataframe tbody tr th {\n",
       "        vertical-align: top;\n",
       "    }\n",
       "\n",
       "    .dataframe thead th {\n",
       "        text-align: right;\n",
       "    }\n",
       "</style>\n",
       "<table border=\"1\" class=\"dataframe\">\n",
       "  <thead>\n",
       "    <tr style=\"text-align: right;\">\n",
       "      <th></th>\n",
       "      <th>course_id</th>\n",
       "      <th>userid_DI</th>\n",
       "      <th>viewed</th>\n",
       "      <th>explored</th>\n",
       "      <th>certified</th>\n",
       "      <th>nevents</th>\n",
       "      <th>ndays_act</th>\n",
       "      <th>nchapters</th>\n",
       "      <th>nforum_posts</th>\n",
       "      <th>Age</th>\n",
       "      <th>LoE_DI_labels</th>\n",
       "      <th>gender_labels</th>\n",
       "      <th>grade</th>\n",
       "    </tr>\n",
       "  </thead>\n",
       "  <tbody>\n",
       "    <tr>\n",
       "      <th>0</th>\n",
       "      <td>HarvardX/CB22x/2013_Spring</td>\n",
       "      <td>MHxPC130442623</td>\n",
       "      <td>0</td>\n",
       "      <td>0</td>\n",
       "      <td>0</td>\n",
       "      <td>1.0</td>\n",
       "      <td>9.0</td>\n",
       "      <td>1.0</td>\n",
       "      <td>0</td>\n",
       "      <td>22.0</td>\n",
       "      <td>0</td>\n",
       "      <td>1</td>\n",
       "      <td>0.00</td>\n",
       "    </tr>\n",
       "    <tr>\n",
       "      <th>1</th>\n",
       "      <td>HarvardX/CB22x/2013_Spring</td>\n",
       "      <td>MHxPC130275857</td>\n",
       "      <td>0</td>\n",
       "      <td>0</td>\n",
       "      <td>0</td>\n",
       "      <td>1.0</td>\n",
       "      <td>16.0</td>\n",
       "      <td>1.0</td>\n",
       "      <td>0</td>\n",
       "      <td>23.0</td>\n",
       "      <td>0</td>\n",
       "      <td>1</td>\n",
       "      <td>0.00</td>\n",
       "    </tr>\n",
       "    <tr>\n",
       "      <th>2</th>\n",
       "      <td>HarvardX/CB22x/2013_Spring</td>\n",
       "      <td>MHxPC130539455</td>\n",
       "      <td>1</td>\n",
       "      <td>0</td>\n",
       "      <td>0</td>\n",
       "      <td>42.0</td>\n",
       "      <td>6.0</td>\n",
       "      <td>3.0</td>\n",
       "      <td>0</td>\n",
       "      <td>23.0</td>\n",
       "      <td>0</td>\n",
       "      <td>1</td>\n",
       "      <td>0.00</td>\n",
       "    </tr>\n",
       "    <tr>\n",
       "      <th>3</th>\n",
       "      <td>HarvardX/CB22x/2013_Spring</td>\n",
       "      <td>MHxPC130088379</td>\n",
       "      <td>1</td>\n",
       "      <td>0</td>\n",
       "      <td>0</td>\n",
       "      <td>70.0</td>\n",
       "      <td>3.0</td>\n",
       "      <td>3.0</td>\n",
       "      <td>0</td>\n",
       "      <td>23.0</td>\n",
       "      <td>0</td>\n",
       "      <td>1</td>\n",
       "      <td>0.00</td>\n",
       "    </tr>\n",
       "    <tr>\n",
       "      <th>4</th>\n",
       "      <td>HarvardX/CB22x/2013_Spring</td>\n",
       "      <td>MHxPC130024894</td>\n",
       "      <td>1</td>\n",
       "      <td>0</td>\n",
       "      <td>0</td>\n",
       "      <td>175.0</td>\n",
       "      <td>9.0</td>\n",
       "      <td>7.0</td>\n",
       "      <td>0</td>\n",
       "      <td>23.0</td>\n",
       "      <td>0</td>\n",
       "      <td>1</td>\n",
       "      <td>0.07</td>\n",
       "    </tr>\n",
       "  </tbody>\n",
       "</table>\n",
       "</div>"
      ],
      "text/plain": [
       "                    course_id       userid_DI  viewed  explored  certified  \\\n",
       "0  HarvardX/CB22x/2013_Spring  MHxPC130442623       0         0          0   \n",
       "1  HarvardX/CB22x/2013_Spring  MHxPC130275857       0         0          0   \n",
       "2  HarvardX/CB22x/2013_Spring  MHxPC130539455       1         0          0   \n",
       "3  HarvardX/CB22x/2013_Spring  MHxPC130088379       1         0          0   \n",
       "4  HarvardX/CB22x/2013_Spring  MHxPC130024894       1         0          0   \n",
       "\n",
       "   nevents  ndays_act  nchapters  nforum_posts   Age  LoE_DI_labels  \\\n",
       "0      1.0        9.0        1.0             0  22.0              0   \n",
       "1      1.0       16.0        1.0             0  23.0              0   \n",
       "2     42.0        6.0        3.0             0  23.0              0   \n",
       "3     70.0        3.0        3.0             0  23.0              0   \n",
       "4    175.0        9.0        7.0             0  23.0              0   \n",
       "\n",
       "   gender_labels  grade  \n",
       "0              1   0.00  \n",
       "1              1   0.00  \n",
       "2              1   0.00  \n",
       "3              1   0.00  \n",
       "4              1   0.07  "
      ]
     },
     "execution_count": 6,
     "metadata": {},
     "output_type": "execute_result"
    }
   ],
   "source": [
    "df.head()"
   ]
  },
  {
   "cell_type": "code",
   "execution_count": 7,
   "id": "2638c4b0",
   "metadata": {},
   "outputs": [],
   "source": [
    "#c=df.pop('grade')\n",
    "#df['grade']=c"
   ]
  },
  {
   "cell_type": "code",
   "execution_count": 8,
   "id": "5e6f6c40",
   "metadata": {},
   "outputs": [
    {
     "name": "stdout",
     "output_type": "stream",
     "text": [
      "<class 'pandas.core.frame.DataFrame'>\n",
      "RangeIndex: 309638 entries, 0 to 309637\n",
      "Data columns (total 13 columns):\n",
      " #   Column         Non-Null Count   Dtype  \n",
      "---  ------         --------------   -----  \n",
      " 0   course_id      309638 non-null  object \n",
      " 1   userid_DI      309638 non-null  object \n",
      " 2   viewed         309638 non-null  int64  \n",
      " 3   explored       309638 non-null  int64  \n",
      " 4   certified      309638 non-null  int64  \n",
      " 5   nevents        309638 non-null  float64\n",
      " 6   ndays_act      309638 non-null  float64\n",
      " 7   nchapters      309638 non-null  float64\n",
      " 8   nforum_posts   309638 non-null  int64  \n",
      " 9   Age            309638 non-null  float64\n",
      " 10  LoE_DI_labels  309638 non-null  int64  \n",
      " 11  gender_labels  309638 non-null  int64  \n",
      " 12  grade          309638 non-null  float64\n",
      "dtypes: float64(5), int64(6), object(2)\n",
      "memory usage: 30.7+ MB\n"
     ]
    }
   ],
   "source": [
    "df.info()"
   ]
  },
  {
   "cell_type": "code",
   "execution_count": 9,
   "id": "f38661e1",
   "metadata": {},
   "outputs": [
    {
     "data": {
      "text/html": [
       "<div>\n",
       "<style scoped>\n",
       "    .dataframe tbody tr th:only-of-type {\n",
       "        vertical-align: middle;\n",
       "    }\n",
       "\n",
       "    .dataframe tbody tr th {\n",
       "        vertical-align: top;\n",
       "    }\n",
       "\n",
       "    .dataframe thead th {\n",
       "        text-align: right;\n",
       "    }\n",
       "</style>\n",
       "<table border=\"1\" class=\"dataframe\">\n",
       "  <thead>\n",
       "    <tr style=\"text-align: right;\">\n",
       "      <th></th>\n",
       "      <th>viewed</th>\n",
       "      <th>explored</th>\n",
       "      <th>certified</th>\n",
       "      <th>nevents</th>\n",
       "      <th>ndays_act</th>\n",
       "      <th>nchapters</th>\n",
       "      <th>nforum_posts</th>\n",
       "      <th>Age</th>\n",
       "      <th>LoE_DI_labels</th>\n",
       "      <th>gender_labels</th>\n",
       "      <th>grade</th>\n",
       "    </tr>\n",
       "  </thead>\n",
       "  <tbody>\n",
       "    <tr>\n",
       "      <th>0</th>\n",
       "      <td>0</td>\n",
       "      <td>0</td>\n",
       "      <td>0</td>\n",
       "      <td>1.0</td>\n",
       "      <td>9.0</td>\n",
       "      <td>1.0</td>\n",
       "      <td>0</td>\n",
       "      <td>22.0</td>\n",
       "      <td>0</td>\n",
       "      <td>1</td>\n",
       "      <td>0.00</td>\n",
       "    </tr>\n",
       "    <tr>\n",
       "      <th>1</th>\n",
       "      <td>0</td>\n",
       "      <td>0</td>\n",
       "      <td>0</td>\n",
       "      <td>1.0</td>\n",
       "      <td>16.0</td>\n",
       "      <td>1.0</td>\n",
       "      <td>0</td>\n",
       "      <td>23.0</td>\n",
       "      <td>0</td>\n",
       "      <td>1</td>\n",
       "      <td>0.00</td>\n",
       "    </tr>\n",
       "    <tr>\n",
       "      <th>2</th>\n",
       "      <td>1</td>\n",
       "      <td>0</td>\n",
       "      <td>0</td>\n",
       "      <td>42.0</td>\n",
       "      <td>6.0</td>\n",
       "      <td>3.0</td>\n",
       "      <td>0</td>\n",
       "      <td>23.0</td>\n",
       "      <td>0</td>\n",
       "      <td>1</td>\n",
       "      <td>0.00</td>\n",
       "    </tr>\n",
       "    <tr>\n",
       "      <th>3</th>\n",
       "      <td>1</td>\n",
       "      <td>0</td>\n",
       "      <td>0</td>\n",
       "      <td>70.0</td>\n",
       "      <td>3.0</td>\n",
       "      <td>3.0</td>\n",
       "      <td>0</td>\n",
       "      <td>23.0</td>\n",
       "      <td>0</td>\n",
       "      <td>1</td>\n",
       "      <td>0.00</td>\n",
       "    </tr>\n",
       "    <tr>\n",
       "      <th>4</th>\n",
       "      <td>1</td>\n",
       "      <td>0</td>\n",
       "      <td>0</td>\n",
       "      <td>175.0</td>\n",
       "      <td>9.0</td>\n",
       "      <td>7.0</td>\n",
       "      <td>0</td>\n",
       "      <td>23.0</td>\n",
       "      <td>0</td>\n",
       "      <td>1</td>\n",
       "      <td>0.07</td>\n",
       "    </tr>\n",
       "  </tbody>\n",
       "</table>\n",
       "</div>"
      ],
      "text/plain": [
       "   viewed  explored  certified  nevents  ndays_act  nchapters  nforum_posts  \\\n",
       "0       0         0          0      1.0        9.0        1.0             0   \n",
       "1       0         0          0      1.0       16.0        1.0             0   \n",
       "2       1         0          0     42.0        6.0        3.0             0   \n",
       "3       1         0          0     70.0        3.0        3.0             0   \n",
       "4       1         0          0    175.0        9.0        7.0             0   \n",
       "\n",
       "    Age  LoE_DI_labels  gender_labels  grade  \n",
       "0  22.0              0              1   0.00  \n",
       "1  23.0              0              1   0.00  \n",
       "2  23.0              0              1   0.00  \n",
       "3  23.0              0              1   0.00  \n",
       "4  23.0              0              1   0.07  "
      ]
     },
     "execution_count": 9,
     "metadata": {},
     "output_type": "execute_result"
    }
   ],
   "source": [
    "df = df.drop(['course_id','userid_DI'],axis = 1)\n",
    "df.head()"
   ]
  },
  {
   "cell_type": "code",
   "execution_count": 10,
   "id": "d2761acf",
   "metadata": {},
   "outputs": [],
   "source": [
    "#Identify input and target columns\n",
    "input_cols,target_cols=df.columns[:-1],df.columns[-1]\n",
    "input_df,targets=df[input_cols].copy(),df[target_cols].copy()"
   ]
  },
  {
   "cell_type": "code",
   "execution_count": 11,
   "id": "06caa3b6",
   "metadata": {},
   "outputs": [],
   "source": [
    "cols1=input_df.columns[:9]"
   ]
  },
  {
   "cell_type": "code",
   "execution_count": 12,
   "id": "ecfd1290",
   "metadata": {},
   "outputs": [],
   "source": [
    "scaler=MinMaxScaler().fit(input_df[cols1])\n",
    "input_df[cols1]=scaler.transform(input_df[cols1])"
   ]
  },
  {
   "cell_type": "code",
   "execution_count": 15,
   "id": "569e23c1",
   "metadata": {
    "scrolled": true
   },
   "outputs": [
    {
     "data": {
      "text/html": [
       "<div>\n",
       "<style scoped>\n",
       "    .dataframe tbody tr th:only-of-type {\n",
       "        vertical-align: middle;\n",
       "    }\n",
       "\n",
       "    .dataframe tbody tr th {\n",
       "        vertical-align: top;\n",
       "    }\n",
       "\n",
       "    .dataframe thead th {\n",
       "        text-align: right;\n",
       "    }\n",
       "</style>\n",
       "<table border=\"1\" class=\"dataframe\">\n",
       "  <thead>\n",
       "    <tr style=\"text-align: right;\">\n",
       "      <th></th>\n",
       "      <th>viewed</th>\n",
       "      <th>explored</th>\n",
       "      <th>certified</th>\n",
       "      <th>nevents</th>\n",
       "      <th>ndays_act</th>\n",
       "      <th>nchapters</th>\n",
       "      <th>nforum_posts</th>\n",
       "      <th>Age</th>\n",
       "      <th>LoE_DI_labels</th>\n",
       "      <th>gender_labels</th>\n",
       "    </tr>\n",
       "  </thead>\n",
       "  <tbody>\n",
       "    <tr>\n",
       "      <th>309633</th>\n",
       "      <td>1.0</td>\n",
       "      <td>0.0</td>\n",
       "      <td>0.0</td>\n",
       "      <td>0.000433</td>\n",
       "      <td>0.000000</td>\n",
       "      <td>0.030303</td>\n",
       "      <td>0.0</td>\n",
       "      <td>0.280488</td>\n",
       "      <td>1.00</td>\n",
       "      <td>1</td>\n",
       "    </tr>\n",
       "    <tr>\n",
       "      <th>309634</th>\n",
       "      <td>1.0</td>\n",
       "      <td>0.0</td>\n",
       "      <td>0.0</td>\n",
       "      <td>0.001709</td>\n",
       "      <td>0.000000</td>\n",
       "      <td>0.030303</td>\n",
       "      <td>0.0</td>\n",
       "      <td>0.231707</td>\n",
       "      <td>1.00</td>\n",
       "      <td>1</td>\n",
       "    </tr>\n",
       "    <tr>\n",
       "      <th>309635</th>\n",
       "      <td>0.0</td>\n",
       "      <td>0.0</td>\n",
       "      <td>0.0</td>\n",
       "      <td>0.000023</td>\n",
       "      <td>0.000000</td>\n",
       "      <td>0.000000</td>\n",
       "      <td>0.0</td>\n",
       "      <td>0.317073</td>\n",
       "      <td>0.00</td>\n",
       "      <td>1</td>\n",
       "    </tr>\n",
       "    <tr>\n",
       "      <th>309636</th>\n",
       "      <td>1.0</td>\n",
       "      <td>0.0</td>\n",
       "      <td>0.0</td>\n",
       "      <td>0.000820</td>\n",
       "      <td>0.011429</td>\n",
       "      <td>0.000000</td>\n",
       "      <td>0.0</td>\n",
       "      <td>0.280488</td>\n",
       "      <td>0.75</td>\n",
       "      <td>1</td>\n",
       "    </tr>\n",
       "    <tr>\n",
       "      <th>309637</th>\n",
       "      <td>0.0</td>\n",
       "      <td>0.0</td>\n",
       "      <td>0.0</td>\n",
       "      <td>0.000000</td>\n",
       "      <td>0.000000</td>\n",
       "      <td>0.000000</td>\n",
       "      <td>0.0</td>\n",
       "      <td>0.304878</td>\n",
       "      <td>0.75</td>\n",
       "      <td>1</td>\n",
       "    </tr>\n",
       "  </tbody>\n",
       "</table>\n",
       "</div>"
      ],
      "text/plain": [
       "        viewed  explored  certified   nevents  ndays_act  nchapters  \\\n",
       "309633     1.0       0.0        0.0  0.000433   0.000000   0.030303   \n",
       "309634     1.0       0.0        0.0  0.001709   0.000000   0.030303   \n",
       "309635     0.0       0.0        0.0  0.000023   0.000000   0.000000   \n",
       "309636     1.0       0.0        0.0  0.000820   0.011429   0.000000   \n",
       "309637     0.0       0.0        0.0  0.000000   0.000000   0.000000   \n",
       "\n",
       "        nforum_posts       Age  LoE_DI_labels  gender_labels  \n",
       "309633           0.0  0.280488           1.00              1  \n",
       "309634           0.0  0.231707           1.00              1  \n",
       "309635           0.0  0.317073           0.00              1  \n",
       "309636           0.0  0.280488           0.75              1  \n",
       "309637           0.0  0.304878           0.75              1  "
      ]
     },
     "execution_count": 15,
     "metadata": {},
     "output_type": "execute_result"
    }
   ],
   "source": [
    "input_df.tail()"
   ]
  },
  {
   "cell_type": "code",
   "execution_count": 14,
   "id": "ba2beca0",
   "metadata": {},
   "outputs": [],
   "source": [
    "cols2=input_df.columns[9:]"
   ]
  },
  {
   "cell_type": "code",
   "execution_count": 13,
   "id": "afd0be79",
   "metadata": {},
   "outputs": [],
   "source": [
    "#input_df[cols2]"
   ]
  },
  {
   "cell_type": "code",
   "execution_count": 16,
   "id": "a188e592",
   "metadata": {},
   "outputs": [
    {
     "name": "stdout",
     "output_type": "stream",
     "text": [
      "        viewed  explored  certified   nevents  ndays_act  nchapters  \\\n",
      "0          0.0       0.0        0.0  0.000000   0.045714   0.000000   \n",
      "1          0.0       0.0        0.0  0.000000   0.085714   0.000000   \n",
      "2          1.0       0.0        0.0  0.000934   0.028571   0.060606   \n",
      "3          1.0       0.0        0.0  0.001573   0.011429   0.060606   \n",
      "4          1.0       0.0        0.0  0.003965   0.045714   0.181818   \n",
      "...        ...       ...        ...       ...        ...        ...   \n",
      "309633     1.0       0.0        0.0  0.000433   0.000000   0.030303   \n",
      "309634     1.0       0.0        0.0  0.001709   0.000000   0.030303   \n",
      "309635     0.0       0.0        0.0  0.000023   0.000000   0.000000   \n",
      "309636     1.0       0.0        0.0  0.000820   0.011429   0.000000   \n",
      "309637     0.0       0.0        0.0  0.000000   0.000000   0.000000   \n",
      "\n",
      "        nforum_posts       Age  LoE_DI_labels_0.0  LoE_DI_labels_0.25  \\\n",
      "0                0.0  0.268293                  1                   0   \n",
      "1                0.0  0.280488                  1                   0   \n",
      "2                0.0  0.280488                  1                   0   \n",
      "3                0.0  0.280488                  1                   0   \n",
      "4                0.0  0.280488                  1                   0   \n",
      "...              ...       ...                ...                 ...   \n",
      "309633           0.0  0.280488                  0                   0   \n",
      "309634           0.0  0.231707                  0                   0   \n",
      "309635           0.0  0.317073                  1                   0   \n",
      "309636           0.0  0.280488                  0                   0   \n",
      "309637           0.0  0.304878                  0                   0   \n",
      "\n",
      "        LoE_DI_labels_0.5  LoE_DI_labels_0.75  LoE_DI_labels_1.0  \\\n",
      "0                       0                   0                  0   \n",
      "1                       0                   0                  0   \n",
      "2                       0                   0                  0   \n",
      "3                       0                   0                  0   \n",
      "4                       0                   0                  0   \n",
      "...                   ...                 ...                ...   \n",
      "309633                  0                   0                  1   \n",
      "309634                  0                   0                  1   \n",
      "309635                  0                   0                  0   \n",
      "309636                  0                   1                  0   \n",
      "309637                  0                   1                  0   \n",
      "\n",
      "        gender_labels_0  gender_labels_1  gender_labels_2  \n",
      "0                     0                1                0  \n",
      "1                     0                1                0  \n",
      "2                     0                1                0  \n",
      "3                     0                1                0  \n",
      "4                     0                1                0  \n",
      "...                 ...              ...              ...  \n",
      "309633                0                1                0  \n",
      "309634                0                1                0  \n",
      "309635                0                1                0  \n",
      "309636                0                1                0  \n",
      "309637                0                1                0  \n",
      "\n",
      "[309638 rows x 16 columns]\n"
     ]
    }
   ],
   "source": [
    "#For categorical columns\n",
    "one_hot_encoded_data = pd.get_dummies(input_df, columns = ['LoE_DI_labels', 'gender_labels'])\n",
    "print(one_hot_encoded_data)"
   ]
  },
  {
   "cell_type": "code",
   "execution_count": 17,
   "id": "f3d4d4e1",
   "metadata": {},
   "outputs": [],
   "source": [
    "input_df = one_hot_encoded_data"
   ]
  },
  {
   "cell_type": "code",
   "execution_count": 18,
   "id": "2ee7c265",
   "metadata": {},
   "outputs": [
    {
     "data": {
      "text/plain": [
       "(309638, 16)"
      ]
     },
     "execution_count": 18,
     "metadata": {},
     "output_type": "execute_result"
    }
   ],
   "source": [
    "input_df.shape"
   ]
  },
  {
   "cell_type": "code",
   "execution_count": 17,
   "id": "810d88ae",
   "metadata": {},
   "outputs": [],
   "source": [
    "#X_train,X_test,y_train,y_test=train_test_split(input_df,targets,test_size=0.25,random_state=42)"
   ]
  },
  {
   "cell_type": "code",
   "execution_count": 19,
   "id": "1d95decf",
   "metadata": {},
   "outputs": [],
   "source": [
    "#X_train.head()"
   ]
  },
  {
   "cell_type": "code",
   "execution_count": 17,
   "id": "6759ceb2",
   "metadata": {},
   "outputs": [],
   "source": [
    "#y_train.head()"
   ]
  },
  {
   "cell_type": "markdown",
   "id": "311aa36c",
   "metadata": {},
   "source": [
    "The first model we are implementing is the Linear regression model. Next, we will check SVM,Naive Bayes,Decision tree (and its variants i.e. ensemble techniques). Finally we will compare the performance of the models using MAE and MSE on the test set."
   ]
  },
  {
   "cell_type": "code",
   "execution_count": 19,
   "id": "d85b8e58",
   "metadata": {},
   "outputs": [],
   "source": [
    "from sklearn.linear_model import LinearRegression\n",
    "from sklearn.svm import LinearSVR\n",
    "from sklearn.naive_bayes import GaussianNB\n",
    "from sklearn.tree import DecisionTreeRegressor\n",
    "from xgboost import XGBRegressor\n",
    "from sklearn.ensemble import RandomForestRegressor, AdaBoostRegressor, GradientBoostingRegressor\n",
    "from sklearn.metrics import mean_squared_error,mean_absolute_error\n",
    "from sklearn.model_selection import KFold,cross_val_score\n",
    "import warnings\n",
    "warnings.simplefilter(action='ignore')"
   ]
  },
  {
   "cell_type": "code",
   "execution_count": 20,
   "id": "ac89cf28",
   "metadata": {},
   "outputs": [],
   "source": [
    "scores= [] #to store r squared\n",
    "mse_list= [] #to store RMSE\n",
    "mae_list = []\n",
    "lrmodel = LinearRegression()\n",
    "cv = KFold(n_splits=20, random_state=42, shuffle=True)"
   ]
  },
  {
   "cell_type": "code",
   "execution_count": 21,
   "id": "efaf69a1",
   "metadata": {},
   "outputs": [],
   "source": [
    "#from sklearn.linear_model import LinearRegression\n",
    "\n",
    "for train_index, test_index in cv.split(input_df):\n",
    "    X_train, X_test, y_train, y_test = input_df.loc[train_index], input_df.loc[test_index], targets.loc[train_index], targets.loc[test_index]\n",
    "    lrmodel.fit(X_train, y_train)\n",
    "    y_predict = lrmodel.predict(X_test)\n",
    "    scores.append(lrmodel.score(X_test, y_test))\n",
    "    mse_fold = mean_squared_error(y_test, y_predict)\n",
    "    mse_list.append(mse_fold)\n",
    "    mae_fold = mean_absolute_error(y_test, y_predict)\n",
    "    mae_list.append(mae_fold)\n"
   ]
  },
  {
   "cell_type": "code",
   "execution_count": 22,
   "id": "24b5ff32",
   "metadata": {},
   "outputs": [
    {
     "name": "stdout",
     "output_type": "stream",
     "text": [
      "MSE 0.001651432165421576\n",
      "MAE 0.010724839144035986\n",
      "R-squared 0.9069177172016634\n"
     ]
    }
   ],
   "source": [
    "\n",
    "print('MSE',np.mean(mse_list))\n",
    "print('MAE',np.mean(mae_list))\n",
    "print('R-squared',np.mean(scores))"
   ]
  },
  {
   "cell_type": "code",
   "execution_count": 23,
   "id": "7900a6de",
   "metadata": {},
   "outputs": [
    {
     "name": "stdout",
     "output_type": "stream",
     "text": [
      "MSE 0.001880866993223838\n",
      "MAE 0.007842166627738933\n",
      "R-squared 0.8939675797502264\n"
     ]
    }
   ],
   "source": [
    "#SVR\n",
    "scores= [] #to store r squared\n",
    "mse_list= [] #to store RMSE\n",
    "mae_list = []\n",
    "model2 = LinearSVR()\n",
    "cv = KFold(n_splits=20, random_state=42, shuffle=True)\n",
    "for train_index, test_index in cv.split(input_df):\n",
    "    X_train, X_test, y_train, y_test = input_df.loc[train_index], input_df.loc[test_index], targets.loc[train_index], targets.loc[test_index]\n",
    "    model2.fit(X_train, y_train)\n",
    "    y_predict = model2.predict(X_test)\n",
    "    scores.append(model2.score(X_test, y_test))\n",
    "    mse_fold = mean_squared_error(y_test, y_predict)\n",
    "    mse_list.append(mse_fold)\n",
    "    mae_fold = mean_absolute_error(y_test, y_predict)\n",
    "    mae_list.append(mae_fold)\n",
    "print('MSE',np.mean(mse_list))\n",
    "print('MAE',np.mean(mae_list))\n",
    "print('R-squared',np.mean(scores))"
   ]
  },
  {
   "cell_type": "code",
   "execution_count": 26,
   "id": "159edef0",
   "metadata": {},
   "outputs": [
    {
     "data": {
      "text/plain": [
       "\"\\nmodel3 = GaussianNB()\\nmodel3.fit(X_train, y_train)\\ny_pred = model3.predict(X_test)\\nprint('MSE',mean_squared_error(y_pred,y_test))\\nprint('MAE',mean_absolute_error(y_pred,y_test))\\n\""
      ]
     },
     "execution_count": 26,
     "metadata": {},
     "output_type": "execute_result"
    }
   ],
   "source": [
    "# Naive Bayes\n",
    "'''\n",
    "model3 = GaussianNB()\n",
    "model3.fit(X_train, y_train)\n",
    "y_pred = model3.predict(X_test)\n",
    "print('MSE',mean_squared_error(y_pred,y_test))\n",
    "print('MAE',mean_absolute_error(y_pred,y_test))\n",
    "'''"
   ]
  },
  {
   "cell_type": "code",
   "execution_count": 24,
   "id": "5890dc3e",
   "metadata": {},
   "outputs": [
    {
     "name": "stdout",
     "output_type": "stream",
     "text": [
      "MSE 0.0017729537849273454\n",
      "MAE 0.007377631921941093\n",
      "R-squared 0.8999627750552929\n"
     ]
    }
   ],
   "source": [
    "scores= [] #to store r squared\n",
    "mse_list= [] #to store RMSE\n",
    "mae_list = []\n",
    "model4=DecisionTreeRegressor()\n",
    "cv = KFold(n_splits=20, random_state=42, shuffle=True)\n",
    "for train_index, test_index in cv.split(input_df):\n",
    "    X_train, X_test, y_train, y_test = input_df.loc[train_index], input_df.loc[test_index], targets.loc[train_index], targets.loc[test_index]\n",
    "    model4.fit(X_train, y_train)\n",
    "    y_predict = model4.predict(X_test)\n",
    "    scores.append(model4.score(X_test, y_test))\n",
    "    mse_fold = mean_squared_error(y_test, y_predict)\n",
    "    mse_list.append(mse_fold)\n",
    "    mae_fold = mean_absolute_error(y_test, y_predict)\n",
    "    mae_list.append(mae_fold)\n",
    "print('MSE',np.mean(mse_list))\n",
    "print('MAE',np.mean(mae_list))\n",
    "print('R-squared',np.mean(scores))"
   ]
  },
  {
   "cell_type": "code",
   "execution_count": 25,
   "id": "1df64346",
   "metadata": {},
   "outputs": [
    {
     "name": "stdout",
     "output_type": "stream",
     "text": [
      "MSE 0.0008876220281619138\n",
      "MAE 0.005679432054100453\n",
      "R-squared 0.9499603642577933\n"
     ]
    }
   ],
   "source": [
    "\n",
    "scores= [] #to store r squared\n",
    "mse_list= [] #to store RMSE\n",
    "mae_list = []\n",
    "model5=XGBRegressor()\n",
    "cv = KFold(n_splits=20, random_state=42, shuffle=True)\n",
    "for train_index, test_index in cv.split(input_df):\n",
    "    X_train, X_test, y_train, y_test = input_df.loc[train_index], input_df.loc[test_index], targets.loc[train_index], targets.loc[test_index]\n",
    "    model5.fit(X_train, y_train)\n",
    "    y_predict = model5.predict(X_test)\n",
    "    scores.append(model5.score(X_test, y_test))\n",
    "    mse_fold = mean_squared_error(y_test, y_predict)\n",
    "    mse_list.append(mse_fold)\n",
    "    mae_fold = mean_absolute_error(y_test, y_predict)\n",
    "    mae_list.append(mae_fold)\n",
    "print('MSE',np.mean(mse_list))\n",
    "print('MAE',np.mean(mae_list))\n",
    "print('R-squared',np.mean(scores))"
   ]
  },
  {
   "cell_type": "code",
   "execution_count": 26,
   "id": "2294f3b3",
   "metadata": {},
   "outputs": [
    {
     "name": "stdout",
     "output_type": "stream",
     "text": [
      "MSE 0.0009192599221673578\n",
      "MAE 0.005756155915120622\n",
      "R-squared 0.948155590508241\n"
     ]
    }
   ],
   "source": [
    "\n",
    "scores= [] #to store r squared\n",
    "mse_list= [] #to store RMSE\n",
    "mae_list = []\n",
    "model6=RandomForestRegressor()\n",
    "cv = KFold(n_splits=20, random_state=42, shuffle=True)\n",
    "for train_index, test_index in cv.split(input_df):\n",
    "    X_train, X_test, y_train, y_test = input_df.loc[train_index], input_df.loc[test_index], targets.loc[train_index], targets.loc[test_index]\n",
    "    model6.fit(X_train, y_train)\n",
    "    y_predict = model6.predict(X_test)\n",
    "    scores.append(model6.score(X_test, y_test))\n",
    "    mse_fold = mean_squared_error(y_test, y_predict)\n",
    "    mse_list.append(mse_fold)\n",
    "    mae_fold = mean_absolute_error(y_test, y_predict)\n",
    "    mae_list.append(mae_fold)\n",
    "print('MSE',np.mean(mse_list))\n",
    "print('MAE',np.mean(mae_list))\n",
    "print('R-squared',np.mean(scores))"
   ]
  },
  {
   "cell_type": "code",
   "execution_count": 27,
   "id": "1b2550fd",
   "metadata": {},
   "outputs": [
    {
     "name": "stdout",
     "output_type": "stream",
     "text": [
      "MSE 0.001770007879385175\n",
      "MAE 0.011912071978936237\n",
      "R-squared 0.9005565804746538\n"
     ]
    }
   ],
   "source": [
    "\n",
    "scores= [] #to store r squared\n",
    "mse_list= [] #to store RMSE\n",
    "mae_list = []\n",
    "model7=AdaBoostRegressor()\n",
    "cv = KFold(n_splits=20, random_state=42, shuffle=True)\n",
    "for train_index, test_index in cv.split(input_df):\n",
    "    X_train, X_test, y_train, y_test = input_df.loc[train_index], input_df.loc[test_index], targets.loc[train_index], targets.loc[test_index]\n",
    "    model7.fit(X_train, y_train)\n",
    "    y_predict = model7.predict(X_test)\n",
    "    scores.append(model7.score(X_test, y_test))\n",
    "    mse_fold = mean_squared_error(y_test, y_predict)\n",
    "    mse_list.append(mse_fold)\n",
    "    mae_fold = mean_absolute_error(y_test, y_predict)\n",
    "    mae_list.append(mae_fold)\n",
    "print('MSE',np.mean(mse_list))\n",
    "print('MAE',np.mean(mae_list))\n",
    "print('R-squared',np.mean(scores))"
   ]
  },
  {
   "cell_type": "code",
   "execution_count": 28,
   "id": "131ea96a",
   "metadata": {},
   "outputs": [
    {
     "name": "stdout",
     "output_type": "stream",
     "text": [
      "MSE 0.0009169920852934984\n",
      "MAE 0.006000248504857699\n",
      "R-squared 0.9483056957634972\n"
     ]
    }
   ],
   "source": [
    "\n",
    "scores= [] #to store r squared\n",
    "mse_list= [] #to store RMSE\n",
    "mae_list = []\n",
    "model8=GradientBoostingRegressor()\n",
    "cv = KFold(n_splits=20, random_state=42, shuffle=True)\n",
    "for train_index, test_index in cv.split(input_df):\n",
    "    X_train, X_test, y_train, y_test = input_df.loc[train_index], input_df.loc[test_index], targets.loc[train_index], targets.loc[test_index]\n",
    "    model8.fit(X_train, y_train)\n",
    "    y_predict = model8.predict(X_test)\n",
    "    scores.append(model8.score(X_test, y_test))\n",
    "    mse_fold = mean_squared_error(y_test, y_predict)\n",
    "    mse_list.append(mse_fold)\n",
    "    mae_fold = mean_absolute_error(y_test, y_predict)\n",
    "    mae_list.append(mae_fold)\n",
    "print('MSE',np.mean(mse_list))\n",
    "print('MAE',np.mean(mae_list))\n",
    "print('R-squared',np.mean(scores))"
   ]
  },
  {
   "cell_type": "markdown",
   "id": "8e7079c5",
   "metadata": {},
   "source": [
    "In the above analysis, we can see that we get the best results using XGBoost Regressor."
   ]
  },
  {
   "cell_type": "code",
   "execution_count": null,
   "id": "678341c1",
   "metadata": {},
   "outputs": [],
   "source": []
  }
 ],
 "metadata": {
  "kernelspec": {
   "display_name": "Python 3 (ipykernel)",
   "language": "python",
   "name": "python3"
  },
  "language_info": {
   "codemirror_mode": {
    "name": "ipython",
    "version": 3
   },
   "file_extension": ".py",
   "mimetype": "text/x-python",
   "name": "python",
   "nbconvert_exporter": "python",
   "pygments_lexer": "ipython3",
   "version": "3.11.3"
  }
 },
 "nbformat": 4,
 "nbformat_minor": 5
}
